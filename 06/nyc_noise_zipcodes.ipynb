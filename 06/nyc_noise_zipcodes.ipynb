{
 "cells": [
  {
   "cell_type": "markdown",
   "metadata": {},
   "source": [
    "## NYC complaints 311 Calls: zipcodes\n",
    "\n",
    "In this notebook we will exploit Pandas to perform data analysis on a dataset of calls to 311 (municipal calls, not emergency) in the New York City area.\n",
    "\n",
    "Download the data from [here](https://data.cityofnewyork.us/Social-Services/311-Service-Requests-from-2010-to-Present/erm2-nwe9) (Go to Export -> CSV). (**WARNING: > 16 GB of data**)\n",
    "\n",
    "For this notebook, use on a smaller version of the data [here](https://drive.google.com/file/d/1EHYsxnN18LAKIPpZbtqjqCLi5hokG1ag/view?usp=sharing)."
   ]
  },
  {
   "cell_type": "code",
   "execution_count": 1,
   "metadata": {},
   "outputs": [
    {
     "name": "stderr",
     "output_type": "stream",
     "text": [
      "/var/folders/b3/cjvms6c10k77tgv6k_rw3jbh0000gn/T/ipykernel_14105/1126259180.py:8: DtypeWarning: Columns (8,31,32,34,35,36,37) have mixed types. Specify dtype option on import or set low_memory=False.\n",
      "  complaints = pd.read_csv('311_small.csv')\n"
     ]
    }
   ],
   "source": [
    "%matplotlib inline\n",
    "import pandas as pd\n",
    "import matplotlib.pyplot as plt\n",
    "import numpy as np\n",
    "import re\n",
    "\n",
    "plt.rcParams['figure.figsize'] = (15, 5)\n",
    "complaints = pd.read_csv('311_small.csv')"
   ]
  },
  {
   "cell_type": "code",
   "execution_count": 2,
   "metadata": {
    "scrolled": true
   },
   "outputs": [
    {
     "data": {
      "text/plain": [
       "Index(['Unique Key', 'Created Date', 'Closed Date', 'Agency', 'Agency Name',\n",
       "       'Complaint Type', 'Descriptor', 'Location Type', 'Incident Zip',\n",
       "       'Incident Address', 'Street Name', 'Cross Street 1', 'Cross Street 2',\n",
       "       'Intersection Street 1', 'Intersection Street 2', 'Address Type',\n",
       "       'City', 'Landmark', 'Facility Type', 'Status', 'Due Date',\n",
       "       'Resolution Description', 'Resolution Action Updated Date',\n",
       "       'Community Board', 'BBL', 'Borough', 'X Coordinate (State Plane)',\n",
       "       'Y Coordinate (State Plane)', 'Open Data Channel Type',\n",
       "       'Park Facility Name', 'Park Borough', 'Vehicle Type',\n",
       "       'Taxi Company Borough', 'Taxi Pick Up Location', 'Bridge Highway Name',\n",
       "       'Bridge Highway Direction', 'Road Ramp', 'Bridge Highway Segment',\n",
       "       'Latitude', 'Longitude', 'Location'],\n",
       "      dtype='object')"
      ]
     },
     "execution_count": 2,
     "metadata": {},
     "output_type": "execute_result"
    }
   ],
   "source": [
    "complaints.columns"
   ]
  },
  {
   "cell_type": "markdown",
   "metadata": {},
   "source": [
    "#### drop columns "
   ]
  },
  {
   "cell_type": "code",
   "execution_count": 3,
   "metadata": {},
   "outputs": [
    {
     "data": {
      "text/plain": [
       "(999999, 41)"
      ]
     },
     "execution_count": 3,
     "metadata": {},
     "output_type": "execute_result"
    }
   ],
   "source": [
    "complaints.shape"
   ]
  },
  {
   "cell_type": "code",
   "execution_count": 4,
   "metadata": {},
   "outputs": [],
   "source": [
    "columns_to_drop = ['Created Date', 'Closed Date', 'Agency', 'Agency Name',\n",
    "       'Descriptor', 'Status', 'Due Date',\n",
    "       'Resolution Description', 'Resolution Action Updated Date',\n",
    "       'Community Board', 'BBL', 'Open Data Channel Type',\n",
    "       'Park Facility Name', 'Park Borough', 'Vehicle Type',\n",
    "       'Taxi Company Borough', 'Taxi Pick Up Location', 'Bridge Highway Name',\n",
    "       'Bridge Highway Direction', 'Road Ramp', 'Bridge Highway Segment']\n",
    "df = complaints.drop(columns=columns_to_drop)"
   ]
  },
  {
   "cell_type": "code",
   "execution_count": 5,
   "metadata": {},
   "outputs": [
    {
     "data": {
      "text/plain": [
       "(999999, 20)"
      ]
     },
     "execution_count": 5,
     "metadata": {},
     "output_type": "execute_result"
    }
   ],
   "source": [
    "df.shape"
   ]
  },
  {
   "cell_type": "code",
   "execution_count": 6,
   "metadata": {},
   "outputs": [
    {
     "data": {
      "text/plain": [
       "dtype('O')"
      ]
     },
     "execution_count": 6,
     "metadata": {},
     "output_type": "execute_result"
    }
   ],
   "source": [
    "df['Incident Zip'].dtype"
   ]
  },
  {
   "cell_type": "code",
   "execution_count": 7,
   "metadata": {},
   "outputs": [
    {
     "data": {
      "text/plain": [
       "88509"
      ]
     },
     "execution_count": 7,
     "metadata": {},
     "output_type": "execute_result"
    }
   ],
   "source": [
    "df['Incident Zip'].isna().sum()"
   ]
  },
  {
   "cell_type": "markdown",
   "metadata": {},
   "source": [
    "Let's reduce this number."
   ]
  },
  {
   "cell_type": "markdown",
   "metadata": {},
   "source": [
    "# Part 1: basic conversions"
   ]
  },
  {
   "cell_type": "code",
   "execution_count": 8,
   "metadata": {},
   "outputs": [],
   "source": [
    "all_zips = df['Incident Zip']"
   ]
  },
  {
   "cell_type": "code",
   "execution_count": 9,
   "metadata": {},
   "outputs": [],
   "source": [
    "def float_and_str(x):\n",
    "    \"\"\"\n",
    "    make sure to have only floats and strings. \n",
    "    Note: type(np.nan) = float64\n",
    "    \"\"\"\n",
    "    try:\n",
    "        return float(x)\n",
    "    except:\n",
    "        return str(x)\n",
    "zip1 = all_zips.apply(lambda x: float_and_str(x))"
   ]
  },
  {
   "cell_type": "code",
   "execution_count": 10,
   "metadata": {},
   "outputs": [
    {
     "data": {
      "text/plain": [
       "array([<class 'float'>, <class 'str'>], dtype=object)"
      ]
     },
     "execution_count": 10,
     "metadata": {},
     "output_type": "execute_result"
    }
   ],
   "source": [
    "zip1.apply(type).unique()"
   ]
  },
  {
   "cell_type": "code",
   "execution_count": 11,
   "metadata": {},
   "outputs": [
    {
     "data": {
      "text/plain": [
       "883       37214-0065\n",
       "40092         NEWARK\n",
       "40145     10423-0935\n",
       "63485     90054-0807\n",
       "64033     18773-9640\n",
       "76409     08690-1717\n",
       "90617     11797-9004\n",
       "146452    44087-2340\n",
       "154503           UNK\n",
       "159120             ?\n",
       "164769    91716-0500\n",
       "166800       NO IDEA\n",
       "179235    30353-0942\n",
       "179493             ?\n",
       "209339       UNKNOWN\n",
       "244742    30092-2670\n",
       "253124             *\n",
       "329115             *\n",
       "379814       UNKNOWN\n",
       "392099    53566-8019\n",
       "419089    12551-0831\n",
       "505758    17108-0988\n",
       "508559    17108-0988\n",
       "511704       UNKNOWN\n",
       "549824    85251-3643\n",
       "606653    11590-5027\n",
       "654119    11735-3946\n",
       "682171    11802-9060\n",
       "685967             *\n",
       "688809    61702-3517\n",
       "760548    55164-0437\n",
       "924175    61702-3517\n",
       "957902       UNKNOWN\n",
       "983209    14225-1032\n",
       "Name: Incident Zip, dtype: object"
      ]
     },
     "execution_count": 11,
     "metadata": {},
     "output_type": "execute_result"
    }
   ],
   "source": [
    "# check what strings look like\n",
    "zip1[zip1.apply(lambda x: isinstance(x, str))]"
   ]
  },
  {
   "cell_type": "markdown",
   "metadata": {},
   "source": [
    "### Steps\n",
    "  1. clean char strings to np.nan\n",
    "  2. clean numeric string:\n",
    "     * split on '-'\n",
    "     * check against [ZIP CODES](https://bklyndesigns.com/new-york-city-zip-code/)\n",
    "  3. populate missing data"
   ]
  },
  {
   "cell_type": "markdown",
   "metadata": {},
   "source": [
    "### 1. Clean char strings to np.nan"
   ]
  },
  {
   "cell_type": "code",
   "execution_count": 12,
   "metadata": {},
   "outputs": [],
   "source": [
    "def clean_strings(x):\n",
    "    \"\"\"\n",
    "    Convert strings to np.nan\n",
    "    \"\"\"\n",
    "    p1 = re.compile(r'[A-Z]+')  # any word\n",
    "    p2 = re.compile(r'[*]+')    # * literal\n",
    "    p3 = re.compile(r'[?]+')    # ? literal\n",
    "    if isinstance(x, str):\n",
    "        for p in [p1, p2, p3]:\n",
    "            if re.search(p, x):\n",
    "                return np.nan\n",
    "    return x"
   ]
  },
  {
   "cell_type": "code",
   "execution_count": 13,
   "metadata": {},
   "outputs": [],
   "source": [
    "zip2 = zip1.apply(lambda x: clean_strings(x))"
   ]
  },
  {
   "cell_type": "code",
   "execution_count": 14,
   "metadata": {},
   "outputs": [
    {
     "data": {
      "text/plain": [
       "883       37214-0065\n",
       "40145     10423-0935\n",
       "63485     90054-0807\n",
       "64033     18773-9640\n",
       "76409     08690-1717\n",
       "90617     11797-9004\n",
       "146452    44087-2340\n",
       "164769    91716-0500\n",
       "179235    30353-0942\n",
       "244742    30092-2670\n",
       "392099    53566-8019\n",
       "419089    12551-0831\n",
       "505758    17108-0988\n",
       "508559    17108-0988\n",
       "549824    85251-3643\n",
       "606653    11590-5027\n",
       "654119    11735-3946\n",
       "682171    11802-9060\n",
       "688809    61702-3517\n",
       "760548    55164-0437\n",
       "924175    61702-3517\n",
       "983209    14225-1032\n",
       "Name: Incident Zip, dtype: object"
      ]
     },
     "execution_count": 14,
     "metadata": {},
     "output_type": "execute_result"
    }
   ],
   "source": [
    "zip2[zip2.apply(lambda x: isinstance(x, str))]"
   ]
  },
  {
   "cell_type": "markdown",
   "metadata": {},
   "source": [
    "### Clean  numeric strings\n",
    "### 1. split on '-'\n",
    "\n",
    "NYC Zip codes are 5 digits only"
   ]
  },
  {
   "cell_type": "code",
   "execution_count": 15,
   "metadata": {},
   "outputs": [],
   "source": [
    "def split_on_dash(x):\n",
    "    p_code = re.compile(r'^\\d{5}')   # find a number \n",
    "    p = re.compile(r'-')\n",
    "    try:\n",
    "        if re.match(p_code, x) and re.search(p, x):\n",
    "            tmp = x.split('-')[0]\n",
    "            return float(tmp)\n",
    "    except TypeError:\n",
    "        return x"
   ]
  },
  {
   "cell_type": "code",
   "execution_count": 16,
   "metadata": {},
   "outputs": [],
   "source": [
    "zip3 = zip2.apply(lambda x: split_on_dash(x))"
   ]
  },
  {
   "cell_type": "code",
   "execution_count": 17,
   "metadata": {},
   "outputs": [
    {
     "data": {
      "text/plain": [
       "Series([], Name: Incident Zip, dtype: float64)"
      ]
     },
     "execution_count": 17,
     "metadata": {},
     "output_type": "execute_result"
    }
   ],
   "source": [
    "zip3[zip3.apply(lambda x: isinstance(x, str))]"
   ]
  },
  {
   "cell_type": "markdown",
   "metadata": {},
   "source": [
    "### 2. check against [ZIP CODES](https://bklyndesigns.com/new-york-city-zip-code/)"
   ]
  },
  {
   "cell_type": "code",
   "execution_count": 18,
   "metadata": {},
   "outputs": [
    {
     "data": {
      "text/plain": [
       "'HAMILTON SQUARE'"
      ]
     },
     "execution_count": 18,
     "metadata": {},
     "output_type": "execute_result"
    }
   ],
   "source": [
    "complaints.iloc[76409, 16]"
   ]
  },
  {
   "cell_type": "code",
   "execution_count": 19,
   "metadata": {},
   "outputs": [
    {
     "data": {
      "text/plain": [
       "'TWINSBURG'"
      ]
     },
     "execution_count": 19,
     "metadata": {},
     "output_type": "execute_result"
    }
   ],
   "source": [
    "complaints.iloc[146452, 16]"
   ]
  },
  {
   "cell_type": "code",
   "execution_count": 20,
   "metadata": {},
   "outputs": [
    {
     "data": {
      "text/plain": [
       "'ATLANTA'"
      ]
     },
     "execution_count": 20,
     "metadata": {},
     "output_type": "execute_result"
    }
   ],
   "source": [
    "complaints.iloc[179235, 16]"
   ]
  },
  {
   "cell_type": "markdown",
   "metadata": {},
   "source": [
    "All outside NYC area... some noise"
   ]
  },
  {
   "cell_type": "markdown",
   "metadata": {},
   "source": [
    "  * Manhattan: 10001-10282\n",
    "  * Staten Island: 10301-10314\n",
    "  * Bronx: 10451-10475\n",
    "  * Queens: 11004-11109, 11351-11697\n",
    "  * Brooklyn: 11201-11256\n",
    "  \n",
    "#### Invalid if:\n",
    "  * x < 10001\n",
    "  * 10282 < x < 10301\n",
    "  * 10314 < x < 10451\n",
    "  * 10475 < x < 11004\n",
    "  * 11109 < x < 11201\n",
    "  * 11256 < x < 11351\n",
    "  * x > 11697\n",
    "  "
   ]
  },
  {
   "cell_type": "code",
   "execution_count": 21,
   "metadata": {},
   "outputs": [],
   "source": [
    "def clean_zip_ranges(x):\n",
    "    # type(x) == float\n",
    "    try: \n",
    "        code = int(x)\n",
    "    except ValueError: # np.nan\n",
    "        return np.nan\n",
    "    if code < 10001 or code > 11697:\n",
    "        return np.nan\n",
    "    elif 10282 < code < 10301:\n",
    "        return np.nan\n",
    "    elif 10475 < code < 11004:\n",
    "        return np.nan\n",
    "    elif 11109 < code < 11201:\n",
    "        return np.nan\n",
    "    elif 11256 < code < 11351:\n",
    "        return np.nan\n",
    "    else:\n",
    "        return code"
   ]
  },
  {
   "cell_type": "code",
   "execution_count": 22,
   "metadata": {},
   "outputs": [],
   "source": [
    "zip4 = zip3.apply(lambda x: clean_zip_ranges(x))"
   ]
  },
  {
   "cell_type": "code",
   "execution_count": 23,
   "metadata": {},
   "outputs": [
    {
     "data": {
      "text/plain": [
       "(999999,)"
      ]
     },
     "execution_count": 23,
     "metadata": {},
     "output_type": "execute_result"
    }
   ],
   "source": [
    "zip4.shape"
   ]
  },
  {
   "cell_type": "code",
   "execution_count": 24,
   "metadata": {},
   "outputs": [
    {
     "data": {
      "text/plain": [
       "89524"
      ]
     },
     "execution_count": 24,
     "metadata": {},
     "output_type": "execute_result"
    }
   ],
   "source": [
    "zip4.isna().sum()"
   ]
  },
  {
   "cell_type": "markdown",
   "metadata": {},
   "source": [
    "Weren't we suppose to reduce that?"
   ]
  },
  {
   "cell_type": "code",
   "execution_count": 25,
   "metadata": {},
   "outputs": [
    {
     "data": {
      "text/plain": [
       "dtype('float64')"
      ]
     },
     "execution_count": 25,
     "metadata": {},
     "output_type": "execute_result"
    }
   ],
   "source": [
    "zip4.dtypes"
   ]
  },
  {
   "cell_type": "code",
   "execution_count": 26,
   "metadata": {},
   "outputs": [],
   "source": [
    "df['Incident Zip'] = zip4"
   ]
  },
  {
   "cell_type": "markdown",
   "metadata": {},
   "source": [
    "### 3. populate missing data"
   ]
  },
  {
   "cell_type": "code",
   "execution_count": 27,
   "metadata": {},
   "outputs": [],
   "source": [
    "place_desc = ['Incident Zip', 'Borough', 'Street Name', \n",
    "              'Cross Street 1', 'Cross Street 2', \n",
    "              'Intersection Street 1', 'Intersection Street 2', \n",
    "              'Address Type', 'City', 'Landmark', 'Facility Type']"
   ]
  },
  {
   "cell_type": "code",
   "execution_count": 28,
   "metadata": {},
   "outputs": [
    {
     "data": {
      "text/plain": [
       "BROOKLYN         322885\n",
       "QUEENS           240326\n",
       "BRONX            182361\n",
       "MANHATTAN        181866\n",
       "STATEN ISLAND     53961\n",
       "Unspecified       18502\n",
       "Name: Borough, dtype: int64"
      ]
     },
     "execution_count": 28,
     "metadata": {},
     "output_type": "execute_result"
    }
   ],
   "source": [
    "df['Borough'].value_counts()"
   ]
  },
  {
   "cell_type": "code",
   "execution_count": 29,
   "metadata": {},
   "outputs": [],
   "source": [
    "unspec_boro = df['Borough'] == 'Unspecified'\n",
    "df.loc[unspec_boro,'Borough'] = np.nan"
   ]
  },
  {
   "cell_type": "code",
   "execution_count": 30,
   "metadata": {},
   "outputs": [
    {
     "data": {
      "text/html": [
       "<div>\n",
       "<style scoped>\n",
       "    .dataframe tbody tr th:only-of-type {\n",
       "        vertical-align: middle;\n",
       "    }\n",
       "\n",
       "    .dataframe tbody tr th {\n",
       "        vertical-align: top;\n",
       "    }\n",
       "\n",
       "    .dataframe thead th {\n",
       "        text-align: right;\n",
       "    }\n",
       "</style>\n",
       "<table border=\"1\" class=\"dataframe\">\n",
       "  <thead>\n",
       "    <tr style=\"text-align: right;\">\n",
       "      <th></th>\n",
       "      <th>Incident Zip</th>\n",
       "      <th>Borough</th>\n",
       "      <th>Street Name</th>\n",
       "      <th>Cross Street 1</th>\n",
       "      <th>Cross Street 2</th>\n",
       "      <th>Intersection Street 1</th>\n",
       "      <th>Intersection Street 2</th>\n",
       "      <th>Address Type</th>\n",
       "      <th>City</th>\n",
       "      <th>Landmark</th>\n",
       "      <th>Facility Type</th>\n",
       "    </tr>\n",
       "  </thead>\n",
       "  <tbody>\n",
       "    <tr>\n",
       "      <th>0</th>\n",
       "      <td>11226.0</td>\n",
       "      <td>BROOKLYN</td>\n",
       "      <td>CLARENDON ROAD</td>\n",
       "      <td>NaN</td>\n",
       "      <td>NaN</td>\n",
       "      <td>NaN</td>\n",
       "      <td>NaN</td>\n",
       "      <td>ADDRESS</td>\n",
       "      <td>BROOKLYN</td>\n",
       "      <td>NaN</td>\n",
       "      <td>NaN</td>\n",
       "    </tr>\n",
       "    <tr>\n",
       "      <th>1</th>\n",
       "      <td>NaN</td>\n",
       "      <td>NaN</td>\n",
       "      <td>NaN</td>\n",
       "      <td>NaN</td>\n",
       "      <td>NaN</td>\n",
       "      <td>NaN</td>\n",
       "      <td>NaN</td>\n",
       "      <td>NaN</td>\n",
       "      <td>NaN</td>\n",
       "      <td>NaN</td>\n",
       "      <td>NaN</td>\n",
       "    </tr>\n",
       "    <tr>\n",
       "      <th>2</th>\n",
       "      <td>11211.0</td>\n",
       "      <td>BROOKLYN</td>\n",
       "      <td>SOUTH 4 STREET</td>\n",
       "      <td>SOUTH 5 PLACE</td>\n",
       "      <td>ROEBLING STREET</td>\n",
       "      <td>NaN</td>\n",
       "      <td>NaN</td>\n",
       "      <td>ADDRESS</td>\n",
       "      <td>BROOKLYN</td>\n",
       "      <td>NaN</td>\n",
       "      <td>NaN</td>\n",
       "    </tr>\n",
       "  </tbody>\n",
       "</table>\n",
       "</div>"
      ],
      "text/plain": [
       "   Incident Zip   Borough     Street Name Cross Street 1   Cross Street 2  \\\n",
       "0       11226.0  BROOKLYN  CLARENDON ROAD            NaN              NaN   \n",
       "1           NaN       NaN             NaN            NaN              NaN   \n",
       "2       11211.0  BROOKLYN  SOUTH 4 STREET  SOUTH 5 PLACE  ROEBLING STREET   \n",
       "\n",
       "  Intersection Street 1 Intersection Street 2 Address Type      City Landmark  \\\n",
       "0                   NaN                   NaN      ADDRESS  BROOKLYN      NaN   \n",
       "1                   NaN                   NaN          NaN       NaN      NaN   \n",
       "2                   NaN                   NaN      ADDRESS  BROOKLYN      NaN   \n",
       "\n",
       "  Facility Type  \n",
       "0           NaN  \n",
       "1           NaN  \n",
       "2           NaN  "
      ]
     },
     "execution_count": 30,
     "metadata": {},
     "output_type": "execute_result"
    }
   ],
   "source": [
    "df[place_desc].head(3)"
   ]
  },
  {
   "cell_type": "code",
   "execution_count": 31,
   "metadata": {},
   "outputs": [],
   "source": [
    "df.dropna(how='all', subset=place_desc, inplace=True)"
   ]
  },
  {
   "cell_type": "code",
   "execution_count": 32,
   "metadata": {},
   "outputs": [
    {
     "data": {
      "text/plain": [
       "(985714, 20)"
      ]
     },
     "execution_count": 32,
     "metadata": {},
     "output_type": "execute_result"
    }
   ],
   "source": [
    "df.shape"
   ]
  },
  {
   "cell_type": "code",
   "execution_count": 33,
   "metadata": {},
   "outputs": [
    {
     "name": "stdout",
     "output_type": "stream",
     "text": [
      "Incident Zip           7.63%\n",
      "Borough                0.44%\n",
      "Street Name            13.21%\n",
      "Cross Street 1         46.00%\n",
      "Cross Street 2         46.20%\n",
      "Intersection Street 1  87.36%\n",
      "Intersection Street 2  87.38%\n",
      "Address Type           7.04%\n",
      "City                   7.59%\n",
      "Landmark               98.89%\n",
      "Facility Type          71.68%\n"
     ]
    }
   ],
   "source": [
    "for col in place_desc:\n",
    "    print(f'{col :<22} {df[col].isna().sum() / df.shape[0] :.2%}')"
   ]
  },
  {
   "cell_type": "code",
   "execution_count": 34,
   "metadata": {},
   "outputs": [],
   "source": [
    "# some useful filters\n",
    "is_brooklyn = df['Borough'] == 'BROOKLYN'\n",
    "is_manhattan = df['Borough'] == 'MANHATTAN'\n",
    "is_queens = df['Borough'] == 'QUEENS'\n",
    "is_bronx = df['Borough'] == 'BRONX'\n",
    "is_staten = df['Borough'] == 'STATEN ISLAND'"
   ]
  },
  {
   "cell_type": "code",
   "execution_count": 35,
   "metadata": {},
   "outputs": [],
   "source": [
    "def inspect(borough_mask, group_list, target):\n",
    "    \"\"\"\n",
    "    Return a dataframe of per borough groups of distinct `group_list`\n",
    "    attributes counting the number of `target` per group.\n",
    "    \"\"\"\n",
    "    tmp = df.loc[borough_mask, place_desc]\n",
    "    tmp['count'] = tmp.groupby(group_list)[target].transform('count')\n",
    "    tmp.sort_values(by='Street Name', inplace=True)\n",
    "    return tmp"
   ]
  },
  {
   "cell_type": "code",
   "execution_count": 36,
   "metadata": {},
   "outputs": [
    {
     "data": {
      "text/html": [
       "<div>\n",
       "<style scoped>\n",
       "    .dataframe tbody tr th:only-of-type {\n",
       "        vertical-align: middle;\n",
       "    }\n",
       "\n",
       "    .dataframe tbody tr th {\n",
       "        vertical-align: top;\n",
       "    }\n",
       "\n",
       "    .dataframe thead th {\n",
       "        text-align: right;\n",
       "    }\n",
       "</style>\n",
       "<table border=\"1\" class=\"dataframe\">\n",
       "  <thead>\n",
       "    <tr style=\"text-align: right;\">\n",
       "      <th></th>\n",
       "      <th>Incident Zip</th>\n",
       "      <th>Borough</th>\n",
       "      <th>Street Name</th>\n",
       "      <th>Cross Street 1</th>\n",
       "      <th>Cross Street 2</th>\n",
       "      <th>Intersection Street 1</th>\n",
       "      <th>Intersection Street 2</th>\n",
       "      <th>Address Type</th>\n",
       "      <th>City</th>\n",
       "      <th>Landmark</th>\n",
       "      <th>Facility Type</th>\n",
       "      <th>count</th>\n",
       "    </tr>\n",
       "  </thead>\n",
       "  <tbody>\n",
       "    <tr>\n",
       "      <th>396356</th>\n",
       "      <td>NaN</td>\n",
       "      <td>BROOKLYN</td>\n",
       "      <td>.DEKALB AVE</td>\n",
       "      <td>NaN</td>\n",
       "      <td>NaN</td>\n",
       "      <td>NaN</td>\n",
       "      <td>NaN</td>\n",
       "      <td>NaN</td>\n",
       "      <td>NaN</td>\n",
       "      <td>NaN</td>\n",
       "      <td>NaN</td>\n",
       "      <td>NaN</td>\n",
       "    </tr>\n",
       "    <tr>\n",
       "      <th>455159</th>\n",
       "      <td>NaN</td>\n",
       "      <td>BROOKLYN</td>\n",
       "      <td>1 AVENUE</td>\n",
       "      <td>NaN</td>\n",
       "      <td>NaN</td>\n",
       "      <td>NaN</td>\n",
       "      <td>NaN</td>\n",
       "      <td>NaN</td>\n",
       "      <td>NaN</td>\n",
       "      <td>NaN</td>\n",
       "      <td>NaN</td>\n",
       "      <td>NaN</td>\n",
       "    </tr>\n",
       "    <tr>\n",
       "      <th>551777</th>\n",
       "      <td>11232.0</td>\n",
       "      <td>BROOKLYN</td>\n",
       "      <td>1 AVENUE</td>\n",
       "      <td>40 STREET</td>\n",
       "      <td>41 STREET</td>\n",
       "      <td>NaN</td>\n",
       "      <td>NaN</td>\n",
       "      <td>ADDRESS</td>\n",
       "      <td>BROOKLYN</td>\n",
       "      <td>NaN</td>\n",
       "      <td>Precinct</td>\n",
       "      <td>17.0</td>\n",
       "    </tr>\n",
       "    <tr>\n",
       "      <th>170575</th>\n",
       "      <td>11220.0</td>\n",
       "      <td>BROOKLYN</td>\n",
       "      <td>1 AVENUE</td>\n",
       "      <td>54 STREET</td>\n",
       "      <td>55 STREET</td>\n",
       "      <td>54 STREET</td>\n",
       "      <td>55 STREET</td>\n",
       "      <td>NaN</td>\n",
       "      <td>BROOKLYN</td>\n",
       "      <td>1 AVENUE</td>\n",
       "      <td>NaN</td>\n",
       "      <td>11.0</td>\n",
       "    </tr>\n",
       "    <tr>\n",
       "      <th>669247</th>\n",
       "      <td>11220.0</td>\n",
       "      <td>BROOKLYN</td>\n",
       "      <td>1 AVENUE</td>\n",
       "      <td>56 STREET</td>\n",
       "      <td>57 STREET</td>\n",
       "      <td>NaN</td>\n",
       "      <td>NaN</td>\n",
       "      <td>ADDRESS</td>\n",
       "      <td>BROOKLYN</td>\n",
       "      <td>NaN</td>\n",
       "      <td>NaN</td>\n",
       "      <td>11.0</td>\n",
       "    </tr>\n",
       "  </tbody>\n",
       "</table>\n",
       "</div>"
      ],
      "text/plain": [
       "        Incident Zip   Borough  Street Name Cross Street 1 Cross Street 2  \\\n",
       "396356           NaN  BROOKLYN  .DEKALB AVE            NaN            NaN   \n",
       "455159           NaN  BROOKLYN     1 AVENUE            NaN            NaN   \n",
       "551777       11232.0  BROOKLYN     1 AVENUE      40 STREET      41 STREET   \n",
       "170575       11220.0  BROOKLYN     1 AVENUE      54 STREET      55 STREET   \n",
       "669247       11220.0  BROOKLYN     1 AVENUE      56 STREET      57 STREET   \n",
       "\n",
       "       Intersection Street 1 Intersection Street 2 Address Type      City  \\\n",
       "396356                   NaN                   NaN          NaN       NaN   \n",
       "455159                   NaN                   NaN          NaN       NaN   \n",
       "551777                   NaN                   NaN      ADDRESS  BROOKLYN   \n",
       "170575             54 STREET             55 STREET          NaN  BROOKLYN   \n",
       "669247                   NaN                   NaN      ADDRESS  BROOKLYN   \n",
       "\n",
       "        Landmark Facility Type  count  \n",
       "396356       NaN           NaN    NaN  \n",
       "455159       NaN           NaN    NaN  \n",
       "551777       NaN      Precinct   17.0  \n",
       "170575  1 AVENUE           NaN   11.0  \n",
       "669247       NaN           NaN   11.0  "
      ]
     },
     "execution_count": 36,
     "metadata": {},
     "output_type": "execute_result"
    }
   ],
   "source": [
    "group = ['Incident Zip', 'Street Name', 'City']\n",
    "target = 'Street Name'\n",
    "inspect(is_brooklyn, group, target).head()"
   ]
  },
  {
   "cell_type": "code",
   "execution_count": 37,
   "metadata": {},
   "outputs": [
    {
     "data": {
      "text/plain": [
       "396356    .DEKALB AVE\n",
       "615835              .\n",
       "Name: Street Name, dtype: object"
      ]
     },
     "execution_count": 37,
     "metadata": {},
     "output_type": "execute_result"
    }
   ],
   "source": [
    "# clean r'^\\.'\n",
    "df[df['Street Name'].str.match(r'^\\.', na=False)]['Street Name']"
   ]
  },
  {
   "cell_type": "code",
   "execution_count": 38,
   "metadata": {},
   "outputs": [],
   "source": [
    "df.loc[615835, 'Street Name'] = np.nan\n",
    "df.loc[396356, 'Street Name'] = 'DEKALB AVE'"
   ]
  },
  {
   "cell_type": "code",
   "execution_count": 39,
   "metadata": {},
   "outputs": [],
   "source": [
    "def find_all_zips(borough_mask):\n",
    "    streets = df.loc[borough_mask, 'Street Name'].unique()\n",
    "    multiple_zips = {}\n",
    "    for street in streets:\n",
    "        mask = df['Street Name'] == street\n",
    "        street_to_zips = df.loc[(borough_mask & mask), 'Incident Zip'].unique()\n",
    "        # pick up only when 2 alternative: [zipcode np.nan]\n",
    "        if (len(street_to_zips) == 2) and (np.isnan(street_to_zips.sum())):\n",
    "            multiple_zips[street] = street_to_zips\n",
    "    return multiple_zips"
   ]
  },
  {
   "cell_type": "markdown",
   "metadata": {},
   "source": [
    "#### Brooklyn"
   ]
  },
  {
   "cell_type": "code",
   "execution_count": 40,
   "metadata": {},
   "outputs": [
    {
     "name": "stdout",
     "output_type": "stream",
     "text": [
      "864\n"
     ]
    }
   ],
   "source": [
    "all_zips = find_all_zips(is_brooklyn)\n",
    "print(len(all_zips))"
   ]
  },
  {
   "cell_type": "code",
   "execution_count": 41,
   "metadata": {},
   "outputs": [
    {
     "data": {
      "text/plain": [
       "True"
      ]
     },
     "execution_count": 41,
     "metadata": {},
     "output_type": "execute_result"
    }
   ],
   "source": [
    "all(len(zips) == 2 for _, zips in all_zips.items())"
   ]
  },
  {
   "cell_type": "code",
   "execution_count": 42,
   "metadata": {},
   "outputs": [
    {
     "name": "stdout",
     "output_type": "stream",
     "text": [
      "95 STREET [11209.    nan]\n",
      "[[0]]\n",
      "11209.0\n"
     ]
    }
   ],
   "source": [
    "for k, v in all_zips.items():\n",
    "    print(k, v)\n",
    "    print(np.argwhere(~np.isnan(v)))\n",
    "    print(v[np.argwhere(~np.isnan(v))[0][0]])\n",
    "    break"
   ]
  },
  {
   "cell_type": "code",
   "execution_count": 43,
   "metadata": {},
   "outputs": [],
   "source": [
    "brooklyn_zips = [(street, zips[np.argwhere(~np.isnan(zips))[0][0]]) \n",
    "                for street, zips in all_zips.items()]"
   ]
  },
  {
   "cell_type": "code",
   "execution_count": 44,
   "metadata": {},
   "outputs": [
    {
     "data": {
      "text/plain": [
       "('95 STREET', 11209.0)"
      ]
     },
     "execution_count": 44,
     "metadata": {},
     "output_type": "execute_result"
    }
   ],
   "source": [
    "brooklyn_zips[0]"
   ]
  },
  {
   "cell_type": "code",
   "execution_count": 45,
   "metadata": {},
   "outputs": [],
   "source": [
    "for street, zipcode in brooklyn_zips:\n",
    "    mask = df['Street Name'] == street\n",
    "    df.loc[(is_brooklyn & mask), 'Incident Zip'] = zipcode"
   ]
  },
  {
   "cell_type": "markdown",
   "metadata": {},
   "source": [
    "#### Manhattan"
   ]
  },
  {
   "cell_type": "code",
   "execution_count": 46,
   "metadata": {},
   "outputs": [
    {
     "name": "stdout",
     "output_type": "stream",
     "text": [
      "143\n"
     ]
    }
   ],
   "source": [
    "all_zips = find_all_zips(is_manhattan)\n",
    "print(len(all_zips))"
   ]
  },
  {
   "cell_type": "code",
   "execution_count": 47,
   "metadata": {},
   "outputs": [],
   "source": [
    "manhattan_zips = [(street, zips[np.argwhere(~np.isnan(zips))[0][0]]) \n",
    "                for street, zips in all_zips.items()]\n",
    "for street, zipcode in manhattan_zips:\n",
    "    mask = df['Street Name'] == street\n",
    "    df.loc[(is_manhattan & mask), 'Incident Zip'] = zipcode"
   ]
  },
  {
   "cell_type": "markdown",
   "metadata": {},
   "source": [
    "#### Bronx"
   ]
  },
  {
   "cell_type": "code",
   "execution_count": 48,
   "metadata": {},
   "outputs": [
    {
     "name": "stdout",
     "output_type": "stream",
     "text": [
      "628\n"
     ]
    }
   ],
   "source": [
    "all_zips = find_all_zips(is_bronx)\n",
    "print(len(all_zips))\n",
    "\n",
    "bronx_zips = [(street, zips[np.argwhere(~np.isnan(zips))[0][0]]) \n",
    "                for street, zips in all_zips.items()]\n",
    "\n",
    "for street, zipcode in bronx_zips:\n",
    "    mask = df['Street Name'] == street\n",
    "    df.loc[(is_bronx & mask), 'Incident Zip'] = zipcode"
   ]
  },
  {
   "cell_type": "markdown",
   "metadata": {},
   "source": [
    "#### Queens"
   ]
  },
  {
   "cell_type": "code",
   "execution_count": 49,
   "metadata": {},
   "outputs": [
    {
     "name": "stdout",
     "output_type": "stream",
     "text": [
      "721\n"
     ]
    }
   ],
   "source": [
    "all_zips = find_all_zips(is_queens)\n",
    "print(len(all_zips))\n",
    "\n",
    "queens_zips = [(street, zips[np.argwhere(~np.isnan(zips))[0][0]]) \n",
    "                for street, zips in all_zips.items()]\n",
    "\n",
    "for street, zipcode in queens_zips:\n",
    "    mask = df['Street Name'] == street\n",
    "    df.loc[(is_queens & mask), 'Incident Zip'] = zipcode"
   ]
  },
  {
   "cell_type": "markdown",
   "metadata": {},
   "source": [
    "#### Staten Island"
   ]
  },
  {
   "cell_type": "code",
   "execution_count": 50,
   "metadata": {},
   "outputs": [
    {
     "name": "stdout",
     "output_type": "stream",
     "text": [
      "880\n"
     ]
    }
   ],
   "source": [
    "all_zips = find_all_zips(is_staten)\n",
    "print(len(all_zips))\n",
    "\n",
    "staten_zips = [(street, zips[np.argwhere(~np.isnan(zips))[0][0]]) \n",
    "                for street, zips in all_zips.items()]\n",
    "\n",
    "for street, zipcode in staten_zips:\n",
    "    mask = df['Street Name'] == street\n",
    "    df.loc[(is_staten & mask), 'Incident Zip'] = zipcode"
   ]
  },
  {
   "cell_type": "markdown",
   "metadata": {},
   "source": [
    "## After the first pass:"
   ]
  },
  {
   "cell_type": "code",
   "execution_count": 51,
   "metadata": {},
   "outputs": [
    {
     "data": {
      "text/plain": [
       "(985714, 20)"
      ]
     },
     "execution_count": 51,
     "metadata": {},
     "output_type": "execute_result"
    }
   ],
   "source": [
    "df.dropna(how='all', subset=place_desc, inplace=True)\n",
    "df.shape"
   ]
  },
  {
   "cell_type": "code",
   "execution_count": 52,
   "metadata": {},
   "outputs": [
    {
     "data": {
      "text/plain": [
       "61237"
      ]
     },
     "execution_count": 52,
     "metadata": {},
     "output_type": "execute_result"
    }
   ],
   "source": [
    "df['Incident Zip'].isna().sum()"
   ]
  },
  {
   "cell_type": "markdown",
   "metadata": {},
   "source": [
    "Better...\n",
    "However this method has serious drawbacks in terms of performances."
   ]
  },
  {
   "cell_type": "markdown",
   "metadata": {},
   "source": [
    "### Deeper"
   ]
  },
  {
   "cell_type": "code",
   "execution_count": 53,
   "metadata": {},
   "outputs": [
    {
     "data": {
      "text/html": [
       "<div>\n",
       "<style scoped>\n",
       "    .dataframe tbody tr th:only-of-type {\n",
       "        vertical-align: middle;\n",
       "    }\n",
       "\n",
       "    .dataframe tbody tr th {\n",
       "        vertical-align: top;\n",
       "    }\n",
       "\n",
       "    .dataframe thead th {\n",
       "        text-align: right;\n",
       "    }\n",
       "</style>\n",
       "<table border=\"1\" class=\"dataframe\">\n",
       "  <thead>\n",
       "    <tr style=\"text-align: right;\">\n",
       "      <th></th>\n",
       "      <th>Borough</th>\n",
       "      <th>Cross Street 1</th>\n",
       "    </tr>\n",
       "  </thead>\n",
       "  <tbody>\n",
       "    <tr>\n",
       "      <th>341580</th>\n",
       "      <td>NaN</td>\n",
       "      <td>&amp; IDEL PLACE</td>\n",
       "    </tr>\n",
       "    <tr>\n",
       "      <th>672342</th>\n",
       "      <td>BROOKLYN</td>\n",
       "      <td>'</td>\n",
       "    </tr>\n",
       "    <tr>\n",
       "      <th>241219</th>\n",
       "      <td>QUEENS</td>\n",
       "      <td>*146 TERRACE</td>\n",
       "    </tr>\n",
       "    <tr>\n",
       "      <th>885614</th>\n",
       "      <td>NaN</td>\n",
       "      <td>*149 RD</td>\n",
       "    </tr>\n",
       "    <tr>\n",
       "      <th>689786</th>\n",
       "      <td>BROOKLYN</td>\n",
       "      <td>*AVENUE H</td>\n",
       "    </tr>\n",
       "    <tr>\n",
       "      <th>...</th>\n",
       "      <td>...</td>\n",
       "      <td>...</td>\n",
       "    </tr>\n",
       "    <tr>\n",
       "      <th>925142</th>\n",
       "      <td>BRONX</td>\n",
       "      <td>YZNAGA PL</td>\n",
       "    </tr>\n",
       "    <tr>\n",
       "      <th>389078</th>\n",
       "      <td>STATEN ISLAND</td>\n",
       "      <td>ZEBRA PL</td>\n",
       "    </tr>\n",
       "    <tr>\n",
       "      <th>174616</th>\n",
       "      <td>QUEENS</td>\n",
       "      <td>ZION ST</td>\n",
       "    </tr>\n",
       "    <tr>\n",
       "      <th>749632</th>\n",
       "      <td>STATEN ISLAND</td>\n",
       "      <td>ZWICKY AVENUE</td>\n",
       "    </tr>\n",
       "    <tr>\n",
       "      <th>730943</th>\n",
       "      <td>BRONX</td>\n",
       "      <td>cross bronx EXPY</td>\n",
       "    </tr>\n",
       "  </tbody>\n",
       "</table>\n",
       "<p>4081 rows × 2 columns</p>\n",
       "</div>"
      ],
      "text/plain": [
       "              Borough    Cross Street 1\n",
       "341580            NaN      & IDEL PLACE\n",
       "672342       BROOKLYN                 '\n",
       "241219         QUEENS      *146 TERRACE\n",
       "885614            NaN           *149 RD\n",
       "689786       BROOKLYN         *AVENUE H\n",
       "...               ...               ...\n",
       "925142          BRONX         YZNAGA PL\n",
       "389078  STATEN ISLAND          ZEBRA PL\n",
       "174616         QUEENS           ZION ST\n",
       "749632  STATEN ISLAND     ZWICKY AVENUE\n",
       "730943          BRONX  cross bronx EXPY\n",
       "\n",
       "[4081 rows x 2 columns]"
      ]
     },
     "execution_count": 53,
     "metadata": {},
     "output_type": "execute_result"
    }
   ],
   "source": [
    "df[['Borough', 'Cross Street 1']].drop_duplicates(keep=False).sort_values(by='Cross Street 1')"
   ]
  },
  {
   "cell_type": "code",
   "execution_count": 54,
   "metadata": {},
   "outputs": [
    {
     "data": {
      "text/plain": [
       "341580    & IDEL PLACE\n",
       "Name: Cross Street 1, dtype: object"
      ]
     },
     "execution_count": 54,
     "metadata": {},
     "output_type": "execute_result"
    }
   ],
   "source": [
    "# remove r'^&' and r'^*' and r\"^'\"\n",
    "df[df['Cross Street 1'].str.match(r'^\\&', na=False)]['Cross Street 1']"
   ]
  },
  {
   "cell_type": "code",
   "execution_count": 55,
   "metadata": {},
   "outputs": [],
   "source": [
    "df.loc[341580, 'Cross Street 1'] = 'IDEL PLACE'"
   ]
  },
  {
   "cell_type": "code",
   "execution_count": 56,
   "metadata": {},
   "outputs": [
    {
     "data": {
      "text/plain": [
       "226074     *PENNYFIELD AVE\n",
       "241219        *146 TERRACE\n",
       "628795    *GREENWAY AVENUE\n",
       "689786           *AVENUE H\n",
       "885614             *149 RD\n",
       "Name: Cross Street 1, dtype: object"
      ]
     },
     "execution_count": 56,
     "metadata": {},
     "output_type": "execute_result"
    }
   ],
   "source": [
    "df[df['Cross Street 1'].str.match(r'^\\*', na=False)]['Cross Street 1']"
   ]
  },
  {
   "cell_type": "code",
   "execution_count": 57,
   "metadata": {},
   "outputs": [],
   "source": [
    "df.loc[226074, 'Cross Street 1'] = 'PENNYFIELD AVE'\n",
    "df.loc[241219, 'Cross Street 1'] = '146 TERRACE'\n",
    "df.loc[628795, 'Cross Street 1'] = 'GREENWAY AVENUE'\n",
    "df.loc[689786, 'Cross Street 1'] = 'AVENUE H'\n",
    "df.loc[885614, 'Cross Street 1'] = '149 RD'"
   ]
  },
  {
   "cell_type": "code",
   "execution_count": 58,
   "metadata": {},
   "outputs": [
    {
     "data": {
      "text/plain": [
       "672342    '\n",
       "Name: Cross Street 1, dtype: object"
      ]
     },
     "execution_count": 58,
     "metadata": {},
     "output_type": "execute_result"
    }
   ],
   "source": [
    "df[df['Cross Street 1'].str.match(r\"^\\'\", na=False)]['Cross Street 1']"
   ]
  },
  {
   "cell_type": "code",
   "execution_count": 59,
   "metadata": {},
   "outputs": [],
   "source": [
    "df.loc[672342, 'Cross Street 1'] = np.nan"
   ]
  },
  {
   "cell_type": "markdown",
   "metadata": {},
   "source": [
    "### About duplicates"
   ]
  },
  {
   "cell_type": "code",
   "execution_count": 60,
   "metadata": {},
   "outputs": [
    {
     "data": {
      "text/html": [
       "<div>\n",
       "<style scoped>\n",
       "    .dataframe tbody tr th:only-of-type {\n",
       "        vertical-align: middle;\n",
       "    }\n",
       "\n",
       "    .dataframe tbody tr th {\n",
       "        vertical-align: top;\n",
       "    }\n",
       "\n",
       "    .dataframe thead th {\n",
       "        text-align: right;\n",
       "    }\n",
       "</style>\n",
       "<table border=\"1\" class=\"dataframe\">\n",
       "  <thead>\n",
       "    <tr style=\"text-align: right;\">\n",
       "      <th></th>\n",
       "      <th>Borough</th>\n",
       "      <th>Cross Street 1</th>\n",
       "    </tr>\n",
       "  </thead>\n",
       "  <tbody>\n",
       "    <tr>\n",
       "      <th>185739</th>\n",
       "      <td>BRONX</td>\n",
       "      <td>1 AVENUE</td>\n",
       "    </tr>\n",
       "    <tr>\n",
       "      <th>974164</th>\n",
       "      <td>BROOKLYN</td>\n",
       "      <td>1 AVENUE &amp; 2 AVENUE</td>\n",
       "    </tr>\n",
       "    <tr>\n",
       "      <th>727029</th>\n",
       "      <td>MANHATTAN</td>\n",
       "      <td>1 AVENUE LOOP</td>\n",
       "    </tr>\n",
       "    <tr>\n",
       "      <th>785902</th>\n",
       "      <td>STATEN ISLAND</td>\n",
       "      <td>1 BAY STREET</td>\n",
       "    </tr>\n",
       "    <tr>\n",
       "      <th>779933</th>\n",
       "      <td>BROOKLYN</td>\n",
       "      <td>1 CT</td>\n",
       "    </tr>\n",
       "    <tr>\n",
       "      <th>...</th>\n",
       "      <td>...</td>\n",
       "      <td>...</td>\n",
       "    </tr>\n",
       "    <tr>\n",
       "      <th>925142</th>\n",
       "      <td>BRONX</td>\n",
       "      <td>YZNAGA PL</td>\n",
       "    </tr>\n",
       "    <tr>\n",
       "      <th>389078</th>\n",
       "      <td>STATEN ISLAND</td>\n",
       "      <td>ZEBRA PL</td>\n",
       "    </tr>\n",
       "    <tr>\n",
       "      <th>174616</th>\n",
       "      <td>QUEENS</td>\n",
       "      <td>ZION ST</td>\n",
       "    </tr>\n",
       "    <tr>\n",
       "      <th>749632</th>\n",
       "      <td>STATEN ISLAND</td>\n",
       "      <td>ZWICKY AVENUE</td>\n",
       "    </tr>\n",
       "    <tr>\n",
       "      <th>730943</th>\n",
       "      <td>BRONX</td>\n",
       "      <td>cross bronx EXPY</td>\n",
       "    </tr>\n",
       "  </tbody>\n",
       "</table>\n",
       "<p>4078 rows × 2 columns</p>\n",
       "</div>"
      ],
      "text/plain": [
       "              Borough       Cross Street 1\n",
       "185739          BRONX             1 AVENUE\n",
       "974164       BROOKLYN  1 AVENUE & 2 AVENUE\n",
       "727029      MANHATTAN        1 AVENUE LOOP\n",
       "785902  STATEN ISLAND         1 BAY STREET\n",
       "779933       BROOKLYN                 1 CT\n",
       "...               ...                  ...\n",
       "925142          BRONX            YZNAGA PL\n",
       "389078  STATEN ISLAND             ZEBRA PL\n",
       "174616         QUEENS              ZION ST\n",
       "749632  STATEN ISLAND        ZWICKY AVENUE\n",
       "730943          BRONX     cross bronx EXPY\n",
       "\n",
       "[4078 rows x 2 columns]"
      ]
     },
     "execution_count": 60,
     "metadata": {},
     "output_type": "execute_result"
    }
   ],
   "source": [
    "df[['Borough', 'Cross Street 1']].drop_duplicates(keep=False).sort_values(by='Cross Street 1')"
   ]
  },
  {
   "cell_type": "code",
   "execution_count": 61,
   "metadata": {},
   "outputs": [
    {
     "data": {
      "text/html": [
       "<div>\n",
       "<style scoped>\n",
       "    .dataframe tbody tr th:only-of-type {\n",
       "        vertical-align: middle;\n",
       "    }\n",
       "\n",
       "    .dataframe tbody tr th {\n",
       "        vertical-align: top;\n",
       "    }\n",
       "\n",
       "    .dataframe thead th {\n",
       "        text-align: right;\n",
       "    }\n",
       "</style>\n",
       "<table border=\"1\" class=\"dataframe\">\n",
       "  <thead>\n",
       "    <tr style=\"text-align: right;\">\n",
       "      <th></th>\n",
       "      <th>Borough</th>\n",
       "      <th>Cross Street 1</th>\n",
       "      <th>Cross Street 2</th>\n",
       "    </tr>\n",
       "  </thead>\n",
       "  <tbody>\n",
       "    <tr>\n",
       "      <th>387285</th>\n",
       "      <td>BROOKLYN</td>\n",
       "      <td>49 ST</td>\n",
       "      <td>1 AVE</td>\n",
       "    </tr>\n",
       "    <tr>\n",
       "      <th>92729</th>\n",
       "      <td>MANHATTAN</td>\n",
       "      <td>E 22 ST</td>\n",
       "      <td>1 AVE</td>\n",
       "    </tr>\n",
       "    <tr>\n",
       "      <th>704807</th>\n",
       "      <td>MANHATTAN</td>\n",
       "      <td>N D PERLMAN PL</td>\n",
       "      <td>1 AVE</td>\n",
       "    </tr>\n",
       "    <tr>\n",
       "      <th>519739</th>\n",
       "      <td>MANHATTAN</td>\n",
       "      <td>14 ST E</td>\n",
       "      <td>1 AVE</td>\n",
       "    </tr>\n",
       "    <tr>\n",
       "      <th>946967</th>\n",
       "      <td>MANHATTAN</td>\n",
       "      <td>10 ST E</td>\n",
       "      <td>1 AVE</td>\n",
       "    </tr>\n",
       "    <tr>\n",
       "      <th>...</th>\n",
       "      <td>...</td>\n",
       "      <td>...</td>\n",
       "      <td>...</td>\n",
       "    </tr>\n",
       "    <tr>\n",
       "      <th>996246</th>\n",
       "      <td>QUEENS</td>\n",
       "      <td>EDGEWATER ROAD</td>\n",
       "      <td>NaN</td>\n",
       "    </tr>\n",
       "    <tr>\n",
       "      <th>996796</th>\n",
       "      <td>BROOKLYN</td>\n",
       "      <td>WYCKOFF AVENUE</td>\n",
       "      <td>NaN</td>\n",
       "    </tr>\n",
       "    <tr>\n",
       "      <th>997323</th>\n",
       "      <td>BROOKLYN</td>\n",
       "      <td>PARK CIRCLE</td>\n",
       "      <td>NaN</td>\n",
       "    </tr>\n",
       "    <tr>\n",
       "      <th>997657</th>\n",
       "      <td>QUEENS</td>\n",
       "      <td>147 ST</td>\n",
       "      <td>NaN</td>\n",
       "    </tr>\n",
       "    <tr>\n",
       "      <th>998950</th>\n",
       "      <td>QUEENS</td>\n",
       "      <td>44 AVE</td>\n",
       "      <td>NaN</td>\n",
       "    </tr>\n",
       "  </tbody>\n",
       "</table>\n",
       "<p>24747 rows × 3 columns</p>\n",
       "</div>"
      ],
      "text/plain": [
       "          Borough  Cross Street 1 Cross Street 2\n",
       "387285   BROOKLYN           49 ST          1 AVE\n",
       "92729   MANHATTAN         E 22 ST          1 AVE\n",
       "704807  MANHATTAN  N D PERLMAN PL          1 AVE\n",
       "519739  MANHATTAN         14 ST E          1 AVE\n",
       "946967  MANHATTAN         10 ST E          1 AVE\n",
       "...           ...             ...            ...\n",
       "996246     QUEENS  EDGEWATER ROAD            NaN\n",
       "996796   BROOKLYN  WYCKOFF AVENUE            NaN\n",
       "997323   BROOKLYN     PARK CIRCLE            NaN\n",
       "997657     QUEENS          147 ST            NaN\n",
       "998950     QUEENS          44 AVE            NaN\n",
       "\n",
       "[24747 rows x 3 columns]"
      ]
     },
     "execution_count": 61,
     "metadata": {},
     "output_type": "execute_result"
    }
   ],
   "source": [
    "df[['Borough', 'Cross Street 1', 'Cross Street 2']].drop_duplicates(keep=False).sort_values(by='Cross Street 2')"
   ]
  },
  {
   "cell_type": "markdown",
   "metadata": {},
   "source": [
    "Lots of duplicates on subset."
   ]
  },
  {
   "cell_type": "code",
   "execution_count": 83,
   "metadata": {},
   "outputs": [
    {
     "data": {
      "text/plain": [
       "453411"
      ]
     },
     "execution_count": 83,
     "metadata": {},
     "output_type": "execute_result"
    }
   ],
   "source": [
    "df['Cross Street 1'].isna().sum()"
   ]
  },
  {
   "cell_type": "code",
   "execution_count": 84,
   "metadata": {},
   "outputs": [
    {
     "data": {
      "text/plain": [
       "61237"
      ]
     },
     "execution_count": 84,
     "metadata": {},
     "output_type": "execute_result"
    }
   ],
   "source": [
    "# current situation\n",
    "df['Incident Zip'].isna().sum()"
   ]
  },
  {
   "cell_type": "markdown",
   "metadata": {},
   "source": [
    "`df.duplicated` is your friend. "
   ]
  },
  {
   "cell_type": "code",
   "execution_count": 70,
   "metadata": {},
   "outputs": [],
   "source": [
    "columns_of_interest = ['Borough', 'Street Name', 'Cross Street 1']\n",
    "\n",
    "# all duplicates in the columns_of_interest\n",
    "dups = df[df.duplicated(columns_of_interest, keep=False)]\n",
    "\n",
    "# groupby and find all unique Incident Zips\n",
    "grouped = dups.groupby(columns_of_interest)['Incident Zip'].unique()"
   ]
  },
  {
   "cell_type": "code",
   "execution_count": 71,
   "metadata": {},
   "outputs": [
    {
     "data": {
      "text/plain": [
       "Borough        Street Name    Cross Street 1     \n",
       "BRONX          138 ST E       138 ST E                   [nan]\n",
       "               141 ST E       BROOK AVE                  [nan]\n",
       "               144 ST E       BROOK AVE                  [nan]\n",
       "               145 ST E       BROOK AVE                  [nan]\n",
       "               148 ST E       BERGEN AVE                 [nan]\n",
       "                                                       ...    \n",
       "STATEN ISLAND  YUKON AVENUE   LOTT LANE              [10314.0]\n",
       "               ZACHARY COURT  JEWETT AVENUE          [10310.0]\n",
       "               ZOE STREET     DONGAN HILLS AVENUE    [10305.0]\n",
       "                              LIBERTY AVENUE         [10305.0]\n",
       "                              SEAVER AVENUE          [10305.0]\n",
       "Name: Incident Zip, Length: 63078, dtype: object"
      ]
     },
     "execution_count": 71,
     "metadata": {},
     "output_type": "execute_result"
    }
   ],
   "source": [
    "grouped"
   ]
  },
  {
   "cell_type": "code",
   "execution_count": 72,
   "metadata": {},
   "outputs": [
    {
     "name": "stdout",
     "output_type": "stream",
     "text": [
      "before 63078\n",
      "after 462\n"
     ]
    }
   ],
   "source": [
    "# find all grouped with length == 2 and one of them is np.nan\n",
    "print('before', grouped.size)\n",
    "grouped = grouped[grouped.apply(lambda x: len(x) == 2 \n",
    "                                and np.isnan(np.sum(x)))]\n",
    "print('after', grouped.size)"
   ]
  },
  {
   "cell_type": "code",
   "execution_count": 73,
   "metadata": {},
   "outputs": [],
   "source": [
    "# transform series from narray to scalar\n",
    "grouped = grouped.apply(lambda x: x[np.where(~np.isnan(x))[0][0]])"
   ]
  },
  {
   "cell_type": "code",
   "execution_count": 74,
   "metadata": {},
   "outputs": [
    {
     "data": {
      "text/plain": [
       "Borough  Street Name      Cross Street 1 \n",
       "BRONX    ARNOW AVENUE     TIEMANN AVENUE     10469.0\n",
       "         BATHGATE AVENUE  EAST 176 STREET    10457.0\n",
       "                          EAST 187 STREET    10458.0\n",
       "         BROADWAY         WEST 262 STREET    10471.0\n",
       "Name: Incident Zip, dtype: float64"
      ]
     },
     "execution_count": 74,
     "metadata": {},
     "output_type": "execute_result"
    }
   ],
   "source": [
    "grouped[:4]"
   ]
  },
  {
   "cell_type": "code",
   "execution_count": 85,
   "metadata": {},
   "outputs": [],
   "source": [
    "# find the indices (on dups) of the multi_index (in grouped)\n",
    "# modify those indices on df\n",
    "for index, value in grouped.items():\n",
    "    indices = dups[(dups['Borough'] == index[0]) & \n",
    "             (dups['Street Name'] == index[1]) & \n",
    "             (dups['Cross Street 1'] == index[2])].index\n",
    "    \n",
    "    df.loc[indices,'Incident Zip'] = value"
   ]
  },
  {
   "cell_type": "code",
   "execution_count": 86,
   "metadata": {},
   "outputs": [
    {
     "data": {
      "text/plain": [
       "60749"
      ]
     },
     "execution_count": 86,
     "metadata": {},
     "output_type": "execute_result"
    }
   ],
   "source": [
    "df['Incident Zip'].isna().sum()"
   ]
  },
  {
   "cell_type": "markdown",
   "metadata": {},
   "source": [
    "Let's do the same for 'Cross Street 2'"
   ]
  },
  {
   "cell_type": "code",
   "execution_count": 90,
   "metadata": {},
   "outputs": [
    {
     "data": {
      "text/plain": [
       "58"
      ]
     },
     "execution_count": 90,
     "metadata": {},
     "output_type": "execute_result"
    }
   ],
   "source": [
    "columns_of_interest = ['Borough', 'Street Name', 'Cross Street 2']\n",
    "dups = df[df.duplicated(columns_of_interest, keep=False)]\n",
    "grouped = dups.groupby(columns_of_interest)['Incident Zip'].unique()\n",
    "grouped = grouped[grouped.apply(lambda x: len(x) == 2 \n",
    "                                and np.isnan(np.sum(x)))]\n",
    "grouped = grouped.apply(lambda x: x[np.where(~np.isnan(x))[0][0]])\n",
    "len(grouped)"
   ]
  },
  {
   "cell_type": "code",
   "execution_count": 91,
   "metadata": {},
   "outputs": [],
   "source": [
    "for index, value in grouped.items():\n",
    "    indices = dups[(dups['Borough'] == index[0]) & \n",
    "             (dups['Street Name'] == index[1]) & \n",
    "             (dups['Cross Street 2'] == index[2])].index\n",
    "    \n",
    "    df.loc[indices,'Incident Zip'] = value"
   ]
  },
  {
   "cell_type": "code",
   "execution_count": 92,
   "metadata": {},
   "outputs": [
    {
     "data": {
      "text/plain": [
       "60682"
      ]
     },
     "execution_count": 92,
     "metadata": {},
     "output_type": "execute_result"
    }
   ],
   "source": [
    "df['Incident Zip'].isna().sum()"
   ]
  },
  {
   "cell_type": "markdown",
   "metadata": {},
   "source": [
    "### Even deeper....\n",
    "\n",
    "Only for Manhattan and 1st Avenue, as an example"
   ]
  },
  {
   "cell_type": "code",
   "execution_count": 93,
   "metadata": {},
   "outputs": [],
   "source": [
    "m1 = complaints['Incident Zip'].isna()\n",
    "m2 = complaints['Borough'].isna()\n",
    "m3 = complaints['Street Name'].isna()\n",
    "m4 = complaints['Cross Street 1'].isna()\n",
    "m5 = complaints['Cross Street 2'].isna()\n",
    "Ave1 = (complaints['Cross Street 1'] == '1 AVE') | (complaints['Intersection Street 1'] == '1 AVE')"
   ]
  },
  {
   "cell_type": "code",
   "execution_count": 94,
   "metadata": {},
   "outputs": [
    {
     "data": {
      "text/html": [
       "<div>\n",
       "<style scoped>\n",
       "    .dataframe tbody tr th:only-of-type {\n",
       "        vertical-align: middle;\n",
       "    }\n",
       "\n",
       "    .dataframe tbody tr th {\n",
       "        vertical-align: top;\n",
       "    }\n",
       "\n",
       "    .dataframe thead th {\n",
       "        text-align: right;\n",
       "    }\n",
       "</style>\n",
       "<table border=\"1\" class=\"dataframe\">\n",
       "  <thead>\n",
       "    <tr style=\"text-align: right;\">\n",
       "      <th></th>\n",
       "      <th>Incident Zip</th>\n",
       "      <th>Borough</th>\n",
       "      <th>Street Name</th>\n",
       "      <th>Cross Street 1</th>\n",
       "      <th>Cross Street 2</th>\n",
       "      <th>Intersection Street 1</th>\n",
       "      <th>Intersection Street 2</th>\n",
       "      <th>Address Type</th>\n",
       "      <th>City</th>\n",
       "      <th>Landmark</th>\n",
       "      <th>Facility Type</th>\n",
       "    </tr>\n",
       "  </thead>\n",
       "  <tbody>\n",
       "    <tr>\n",
       "      <th>4684</th>\n",
       "      <td>NaN</td>\n",
       "      <td>MANHATTAN</td>\n",
       "      <td>NaN</td>\n",
       "      <td>NaN</td>\n",
       "      <td>NaN</td>\n",
       "      <td>1 AVE</td>\n",
       "      <td>91 ST E</td>\n",
       "      <td>INTERSECTION</td>\n",
       "      <td>NaN</td>\n",
       "      <td>NaN</td>\n",
       "      <td>NaN</td>\n",
       "    </tr>\n",
       "    <tr>\n",
       "      <th>562892</th>\n",
       "      <td>NaN</td>\n",
       "      <td>MANHATTAN</td>\n",
       "      <td>NaN</td>\n",
       "      <td>1 AVE</td>\n",
       "      <td>54 ST E</td>\n",
       "      <td>1 AVE</td>\n",
       "      <td>54 ST E</td>\n",
       "      <td>INTERSECTION</td>\n",
       "      <td>NaN</td>\n",
       "      <td>NaN</td>\n",
       "      <td>NaN</td>\n",
       "    </tr>\n",
       "    <tr>\n",
       "      <th>572694</th>\n",
       "      <td>NaN</td>\n",
       "      <td>MANHATTAN</td>\n",
       "      <td>NaN</td>\n",
       "      <td>1 AVE</td>\n",
       "      <td>57 ST E</td>\n",
       "      <td>1 AVE</td>\n",
       "      <td>57 ST E</td>\n",
       "      <td>INTERSECTION</td>\n",
       "      <td>NaN</td>\n",
       "      <td>NaN</td>\n",
       "      <td>NaN</td>\n",
       "    </tr>\n",
       "    <tr>\n",
       "      <th>572851</th>\n",
       "      <td>NaN</td>\n",
       "      <td>MANHATTAN</td>\n",
       "      <td>NaN</td>\n",
       "      <td>1 AVE</td>\n",
       "      <td>39 ST E</td>\n",
       "      <td>1 AVE</td>\n",
       "      <td>39 ST E</td>\n",
       "      <td>INTERSECTION</td>\n",
       "      <td>NaN</td>\n",
       "      <td>NaN</td>\n",
       "      <td>NaN</td>\n",
       "    </tr>\n",
       "    <tr>\n",
       "      <th>573631</th>\n",
       "      <td>NaN</td>\n",
       "      <td>MANHATTAN</td>\n",
       "      <td>NaN</td>\n",
       "      <td>1 AVE</td>\n",
       "      <td>51 ST E</td>\n",
       "      <td>1 AVE</td>\n",
       "      <td>51 ST E</td>\n",
       "      <td>INTERSECTION</td>\n",
       "      <td>NaN</td>\n",
       "      <td>NaN</td>\n",
       "      <td>NaN</td>\n",
       "    </tr>\n",
       "    <tr>\n",
       "      <th>...</th>\n",
       "      <td>...</td>\n",
       "      <td>...</td>\n",
       "      <td>...</td>\n",
       "      <td>...</td>\n",
       "      <td>...</td>\n",
       "      <td>...</td>\n",
       "      <td>...</td>\n",
       "      <td>...</td>\n",
       "      <td>...</td>\n",
       "      <td>...</td>\n",
       "      <td>...</td>\n",
       "    </tr>\n",
       "    <tr>\n",
       "      <th>665575</th>\n",
       "      <td>NaN</td>\n",
       "      <td>MANHATTAN</td>\n",
       "      <td>ST CATHERINES PARK</td>\n",
       "      <td>1 AVE</td>\n",
       "      <td>2 AVE</td>\n",
       "      <td>NaN</td>\n",
       "      <td>NaN</td>\n",
       "      <td>BLOCKFACE</td>\n",
       "      <td>NaN</td>\n",
       "      <td>NaN</td>\n",
       "      <td>NaN</td>\n",
       "    </tr>\n",
       "    <tr>\n",
       "      <th>670619</th>\n",
       "      <td>NaN</td>\n",
       "      <td>MANHATTAN</td>\n",
       "      <td>FRST PARK</td>\n",
       "      <td>1 AVE</td>\n",
       "      <td>1 ST E</td>\n",
       "      <td>NaN</td>\n",
       "      <td>NaN</td>\n",
       "      <td>BLOCKFACE</td>\n",
       "      <td>NaN</td>\n",
       "      <td>NaN</td>\n",
       "      <td>NaN</td>\n",
       "    </tr>\n",
       "    <tr>\n",
       "      <th>773364</th>\n",
       "      <td>NaN</td>\n",
       "      <td>MANHATTAN</td>\n",
       "      <td>RALPH BUNCHE PARK</td>\n",
       "      <td>1 AVE</td>\n",
       "      <td>42 ST E</td>\n",
       "      <td>NaN</td>\n",
       "      <td>NaN</td>\n",
       "      <td>BLOCKFACE</td>\n",
       "      <td>NaN</td>\n",
       "      <td>NaN</td>\n",
       "      <td>NaN</td>\n",
       "    </tr>\n",
       "    <tr>\n",
       "      <th>873324</th>\n",
       "      <td>NaN</td>\n",
       "      <td>MANHATTAN</td>\n",
       "      <td>HAMMARSKJOLD PLAZA</td>\n",
       "      <td>1 AVE</td>\n",
       "      <td>2 AVE</td>\n",
       "      <td>NaN</td>\n",
       "      <td>NaN</td>\n",
       "      <td>BLOCKFACE</td>\n",
       "      <td>NaN</td>\n",
       "      <td>NaN</td>\n",
       "      <td>NaN</td>\n",
       "    </tr>\n",
       "    <tr>\n",
       "      <th>919528</th>\n",
       "      <td>NaN</td>\n",
       "      <td>MANHATTAN</td>\n",
       "      <td>42 ST E</td>\n",
       "      <td>1 AVE</td>\n",
       "      <td>TUDOR CITY PL</td>\n",
       "      <td>NaN</td>\n",
       "      <td>NaN</td>\n",
       "      <td>BLOCKFACE</td>\n",
       "      <td>NaN</td>\n",
       "      <td>NaN</td>\n",
       "      <td>NaN</td>\n",
       "    </tr>\n",
       "  </tbody>\n",
       "</table>\n",
       "<p>213 rows × 11 columns</p>\n",
       "</div>"
      ],
      "text/plain": [
       "       Incident Zip    Borough         Street Name Cross Street 1  \\\n",
       "4684            NaN  MANHATTAN                 NaN            NaN   \n",
       "562892          NaN  MANHATTAN                 NaN          1 AVE   \n",
       "572694          NaN  MANHATTAN                 NaN          1 AVE   \n",
       "572851          NaN  MANHATTAN                 NaN          1 AVE   \n",
       "573631          NaN  MANHATTAN                 NaN          1 AVE   \n",
       "...             ...        ...                 ...            ...   \n",
       "665575          NaN  MANHATTAN  ST CATHERINES PARK          1 AVE   \n",
       "670619          NaN  MANHATTAN           FRST PARK          1 AVE   \n",
       "773364          NaN  MANHATTAN   RALPH BUNCHE PARK          1 AVE   \n",
       "873324          NaN  MANHATTAN  HAMMARSKJOLD PLAZA          1 AVE   \n",
       "919528          NaN  MANHATTAN             42 ST E          1 AVE   \n",
       "\n",
       "       Cross Street 2 Intersection Street 1 Intersection Street 2  \\\n",
       "4684              NaN                 1 AVE               91 ST E   \n",
       "562892        54 ST E                 1 AVE               54 ST E   \n",
       "572694        57 ST E                 1 AVE               57 ST E   \n",
       "572851        39 ST E                 1 AVE               39 ST E   \n",
       "573631        51 ST E                 1 AVE               51 ST E   \n",
       "...               ...                   ...                   ...   \n",
       "665575          2 AVE                   NaN                   NaN   \n",
       "670619         1 ST E                   NaN                   NaN   \n",
       "773364        42 ST E                   NaN                   NaN   \n",
       "873324          2 AVE                   NaN                   NaN   \n",
       "919528  TUDOR CITY PL                   NaN                   NaN   \n",
       "\n",
       "        Address Type City Landmark Facility Type  \n",
       "4684    INTERSECTION  NaN      NaN           NaN  \n",
       "562892  INTERSECTION  NaN      NaN           NaN  \n",
       "572694  INTERSECTION  NaN      NaN           NaN  \n",
       "572851  INTERSECTION  NaN      NaN           NaN  \n",
       "573631  INTERSECTION  NaN      NaN           NaN  \n",
       "...              ...  ...      ...           ...  \n",
       "665575     BLOCKFACE  NaN      NaN           NaN  \n",
       "670619     BLOCKFACE  NaN      NaN           NaN  \n",
       "773364     BLOCKFACE  NaN      NaN           NaN  \n",
       "873324     BLOCKFACE  NaN      NaN           NaN  \n",
       "919528     BLOCKFACE  NaN      NaN           NaN  \n",
       "\n",
       "[213 rows x 11 columns]"
      ]
     },
     "execution_count": 94,
     "metadata": {},
     "output_type": "execute_result"
    }
   ],
   "source": [
    "complaints.loc[is_manhattan & (m1 & ~m2) & Ave1, :][place_desc].sort_values(by='Intersection Street 1')"
   ]
  }
 ],
 "metadata": {
  "kernelspec": {
   "display_name": "Python 3 (ipykernel)",
   "language": "python",
   "name": "python3"
  },
  "language_info": {
   "codemirror_mode": {
    "name": "ipython",
    "version": 3
   },
   "file_extension": ".py",
   "mimetype": "text/x-python",
   "name": "python",
   "nbconvert_exporter": "python",
   "pygments_lexer": "ipython3",
   "version": "3.10.1"
  }
 },
 "nbformat": 4,
 "nbformat_minor": 2
}
