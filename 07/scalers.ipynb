{
 "cells": [
  {
   "cell_type": "code",
   "execution_count": null,
   "metadata": {},
   "outputs": [],
   "source": [
    "import matplotlib.pyplot as plt\n",
    "%matplotlib inline\n",
    "import pandas as pd\n",
    "import numpy as np\n",
    "\n",
    "plt.rcParams['figure.figsize'] = (8,8)\n",
    "\n",
    "from sklearn.preprocessing import (\n",
    "    MinMaxScaler,\n",
    "    StandardScaler,\n",
    "    RobustScaler\n",
    ")\n",
    "\n",
    "X = np.random.randint(0, 10, 100).reshape(-1, 1)\n",
    "\n",
    "some = {\n",
    "    'original': X,\n",
    "    'standard': StandardScaler().fit_transform(X),\n",
    "    'minmax': MinMaxScaler().fit_transform(X),\n",
    "    'robust': RobustScaler().fit_transform(X)\n",
    "}\n",
    "\n",
    "x = range(len(X))\n",
    "colors = iter([\"black\", \"r\", \"g\", \"c\"])\n",
    "for name, scaled in some.items():\n",
    "    plt.scatter(x, scaled, color=next(colors), label=name)\n",
    "plt.legend()"
   ]
  },
  {
   "cell_type": "code",
   "execution_count": null,
   "metadata": {},
   "outputs": [],
   "source": [
    "# even better with outliers\n",
    "\n",
    "X = np.random.randint(0, 20, 100)  # 100 numbers in [0, 19]\n",
    "X1 = np.array([100, 100, 130])               # outliers\n",
    "\n",
    "X = np.concatenate((X, X1)).reshape(-1, 1)\n",
    "plt.boxplot(X)"
   ]
  },
  {
   "cell_type": "code",
   "execution_count": null,
   "metadata": {},
   "outputs": [],
   "source": [
    "some = {\n",
    "    'standard': StandardScaler().fit_transform(X),\n",
    "    'minmax': MinMaxScaler().fit_transform(X),\n",
    "    'robust': RobustScaler().fit_transform(X)\n",
    "}\n",
    "\n",
    "x = range(len(X))\n",
    "colors = iter([\"r\", \"g\", \"c\"])\n",
    "for name, scaled in some.items():\n",
    "    plt.scatter(x, scaled, color=next(colors), label=name)\n",
    "plt.legend()"
   ]
  },
  {
   "cell_type": "code",
   "execution_count": null,
   "metadata": {},
   "outputs": [],
   "source": []
  }
 ],
 "metadata": {
  "kernelspec": {
   "display_name": "Python 3 (ipykernel)",
   "language": "python",
   "name": "python3"
  },
  "language_info": {
   "codemirror_mode": {
    "name": "ipython",
    "version": 3
   },
   "file_extension": ".py",
   "mimetype": "text/x-python",
   "name": "python",
   "nbconvert_exporter": "python",
   "pygments_lexer": "ipython3",
   "version": "3.10.1"
  }
 },
 "nbformat": 4,
 "nbformat_minor": 1
}
