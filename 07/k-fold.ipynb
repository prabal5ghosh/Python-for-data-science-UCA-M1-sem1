{
 "cells": [
  {
   "cell_type": "code",
   "execution_count": 24,
   "id": "6b794565",
   "metadata": {},
   "outputs": [],
   "source": [
    "import matplotlib.pyplot as plt\n",
    "%matplotlib inline\n",
    "import numpy as np\n",
    "\n",
    "from sklearn.datasets import load_iris\n",
    "from sklearn.neighbors import KNeighborsClassifier\n",
    "\n",
    "plt.rcParams['figure.figsize'] = (12,12)\n",
    "\n",
    "iris = load_iris()"
   ]
  },
  {
   "cell_type": "code",
   "execution_count": 25,
   "id": "af1ade8d",
   "metadata": {},
   "outputs": [],
   "source": [
    "X, y = iris['data'], iris['target']"
   ]
  },
  {
   "cell_type": "code",
   "execution_count": 26,
   "id": "f6b27879",
   "metadata": {},
   "outputs": [
    {
     "data": {
      "text/plain": [
       "array([0, 0, 0, 0, 0, 0, 0, 0, 0, 0, 0, 0, 0, 0, 0, 0, 0, 0, 0, 0, 0, 0,\n",
       "       0, 0, 0, 0, 0, 0, 0, 0, 0, 0, 0, 0, 0, 0, 0, 0, 0, 0, 0, 0, 0, 0,\n",
       "       0, 0, 0, 0, 0, 0, 1, 1, 1, 1, 1, 1, 1, 1, 1, 1, 1, 1, 1, 1, 1, 1,\n",
       "       1, 1, 1, 1, 1, 1, 1, 1, 1, 1, 1, 1, 1, 1, 1, 1, 1, 1, 1, 1, 1, 1,\n",
       "       1, 1, 1, 1, 1, 1, 1, 1, 1, 1, 1, 1, 2, 2, 2, 2, 2, 2, 2, 2, 2, 2,\n",
       "       2, 2, 2, 2, 2, 2, 2, 2, 2, 2, 2, 2, 2, 2, 2, 2, 2, 2, 2, 2, 2, 2,\n",
       "       2, 2, 2, 2, 2, 2, 2, 2, 2, 2, 2, 2, 2, 2, 2, 2, 2, 2])"
      ]
     },
     "execution_count": 26,
     "metadata": {},
     "output_type": "execute_result"
    }
   ],
   "source": [
    "y"
   ]
  },
  {
   "cell_type": "code",
   "execution_count": 27,
   "id": "1f1bfe38",
   "metadata": {},
   "outputs": [
    {
     "data": {
      "text/plain": [
       "(150, 4)"
      ]
     },
     "execution_count": 27,
     "metadata": {},
     "output_type": "execute_result"
    }
   ],
   "source": [
    "X.shape"
   ]
  },
  {
   "cell_type": "code",
   "execution_count": 28,
   "id": "d4674ccd",
   "metadata": {},
   "outputs": [],
   "source": [
    "rng = np.random.RandomState(0)"
   ]
  },
  {
   "cell_type": "code",
   "execution_count": 29,
   "id": "436f33f5",
   "metadata": {},
   "outputs": [],
   "source": [
    "permutation = rng.permutation(len(X))"
   ]
  },
  {
   "cell_type": "code",
   "execution_count": 30,
   "id": "a8451686",
   "metadata": {},
   "outputs": [
    {
     "data": {
      "text/plain": [
       "150"
      ]
     },
     "execution_count": 30,
     "metadata": {},
     "output_type": "execute_result"
    }
   ],
   "source": [
    "len(permutation)"
   ]
  },
  {
   "cell_type": "code",
   "execution_count": 31,
   "id": "48d503d6",
   "metadata": {},
   "outputs": [],
   "source": [
    "X, y = X[permutation], y[permutation]"
   ]
  },
  {
   "cell_type": "code",
   "execution_count": 32,
   "id": "2ff85298",
   "metadata": {},
   "outputs": [
    {
     "data": {
      "text/plain": [
       "array([2, 1, 0, 2, 0, 2, 0, 1, 1, 1, 2, 1, 1, 1, 1, 0, 1, 1, 0, 0, 2, 1,\n",
       "       0, 0, 2, 0, 0, 1, 1, 0, 2, 1, 0, 2, 2, 1, 0, 1, 1, 1, 2, 0, 2, 0,\n",
       "       0, 1, 2, 2, 2, 2, 1, 2, 1, 1, 2, 2, 2, 2, 1, 2, 1, 0, 2, 1, 1, 1,\n",
       "       1, 2, 0, 0, 2, 1, 0, 0, 1, 0, 2, 1, 0, 1, 2, 1, 0, 2, 2, 2, 2, 0,\n",
       "       0, 2, 2, 0, 2, 0, 2, 2, 0, 0, 2, 0, 0, 0, 1, 2, 2, 0, 0, 0, 1, 1,\n",
       "       0, 0, 1, 0, 2, 1, 2, 1, 0, 2, 0, 2, 0, 0, 2, 0, 2, 1, 1, 1, 2, 2,\n",
       "       1, 1, 0, 1, 2, 2, 0, 1, 1, 1, 1, 0, 0, 0, 2, 1, 2, 0])"
      ]
     },
     "execution_count": 32,
     "metadata": {},
     "output_type": "execute_result"
    }
   ],
   "source": [
    "y"
   ]
  },
  {
   "cell_type": "code",
   "execution_count": 33,
   "id": "2d915378",
   "metadata": {},
   "outputs": [],
   "source": [
    "classifier = KNeighborsClassifier()"
   ]
  },
  {
   "cell_type": "code",
   "execution_count": 34,
   "id": "5cb2c502",
   "metadata": {},
   "outputs": [],
   "source": [
    "k = 5\n",
    "n_samples = len(X)\n",
    "fold_size = n_samples // k\n",
    "scores = []\n",
    "masks = []\n",
    "\n",
    "for fold in range(k):\n",
    "    # generate a boolean mask for the test set in this fold\n",
    "    test_mask = np.zeros(n_samples, dtype=bool)\n",
    "    test_mask[fold * fold_size: (fold+1) * fold_size] = True\n",
    "    masks.append(test_mask)\n",
    "    X_test, y_test = X[test_mask], y[test_mask]\n",
    "    X_train, y_train = X[~test_mask], y[~test_mask]\n",
    "    classifier.fit(X_train, y_train)\n",
    "    scores.append(classifier.score(X_test, y_test))"
   ]
  },
  {
   "cell_type": "code",
   "execution_count": 35,
   "id": "4f2c31ea",
   "metadata": {},
   "outputs": [
    {
     "data": {
      "text/plain": [
       "<matplotlib.image.AxesImage at 0x281c16e00>"
      ]
     },
     "execution_count": 35,
     "metadata": {},
     "output_type": "execute_result"
    },
    {
     "data": {
      "image/png": "[encoded data removed]",
      "text/plain": [
       "<Figure size 1152x144 with 1 Axes>"
      ]
     },
     "metadata": {
      "needs_background": "light"
     },
     "output_type": "display_data"
    }
   ],
   "source": [
    "plt.matshow(masks, cmap='gray_r')"
   ]
  },
  {
   "cell_type": "code",
   "execution_count": 37,
   "id": "3ca39d56",
   "metadata": {},
   "outputs": [
    {
     "data": {
      "text/plain": [
       "0.96"
      ]
     },
     "execution_count": 37,
     "metadata": {},
     "output_type": "execute_result"
    }
   ],
   "source": [
    "np.mean(scores)"
   ]
  },
  {
   "cell_type": "code",
   "execution_count": 38,
   "id": "c254d28f",
   "metadata": {},
   "outputs": [
    {
     "name": "stdout",
     "output_type": "stream",
     "text": [
      "0.9733333333333334\n"
     ]
    }
   ],
   "source": [
    "from sklearn.model_selection import cross_val_score\n",
    "\n",
    "scores = cross_val_score(classifier, X, y)\n",
    "print(np.mean(scores))"
   ]
  },
  {
   "cell_type": "code",
   "execution_count": 39,
   "id": "cfb1284b",
   "metadata": {},
   "outputs": [],
   "source": [
    "from sklearn.model_selection import KFold, StratifiedKFold, ShuffleSplit"
   ]
  },
  {
   "cell_type": "code",
   "execution_count": 40,
   "id": "1aa2e4c6",
   "metadata": {},
   "outputs": [
    {
     "name": "stdout",
     "output_type": "stream",
     "text": [
      "[  0   1   2   3   4   5   6   7   8   9  50  51  52  53  54  55  56  57\n",
      "  58  59 100 101 102 103 104 105 106 107 108 109]\n",
      "[ 10  11  12  13  14  15  16  17  18  19  60  61  62  63  64  65  66  67\n",
      "  68  69 110 111 112 113 114 115 116 117 118 119]\n",
      "[ 20  21  22  23  24  25  26  27  28  29  70  71  72  73  74  75  76  77\n",
      "  78  79 120 121 122 123 124 125 126 127 128 129]\n",
      "[ 30  31  32  33  34  35  36  37  38  39  80  81  82  83  84  85  86  87\n",
      "  88  89 130 131 132 133 134 135 136 137 138 139]\n",
      "[ 40  41  42  43  44  45  46  47  48  49  90  91  92  93  94  95  96  97\n",
      "  98  99 140 141 142 143 144 145 146 147 148 149]\n"
     ]
    }
   ],
   "source": [
    "cv = StratifiedKFold(n_splits=5)\n",
    "for train, test in cv.split(iris.data, iris.target):\n",
    "    print(test)"
   ]
  },
  {
   "cell_type": "code",
   "execution_count": 41,
   "id": "4a2ddeaa",
   "metadata": {},
   "outputs": [],
   "source": [
    "def plot_cv(cv, features, labels):\n",
    "    masks = []\n",
    "    for train, test in cv.split(features, labels):\n",
    "        mask = np.zeros(len(labels), dtype=bool)\n",
    "        mask[test] = 1\n",
    "        masks.append(mask)\n",
    "        \n",
    "    plt.matshow(masks, cmap='gray_r')"
   ]
  },
  {
   "cell_type": "code",
   "execution_count": 44,
   "id": "4b5c35c2",
   "metadata": {},
   "outputs": [
    {
     "data": {
      "image/png": "[encoded data removed]",
      "text/plain": [
       "<Figure size 1152x144 with 1 Axes>"
      ]
     },
     "metadata": {
      "needs_background": "light"
     },
     "output_type": "display_data"
    }
   ],
   "source": [
    "plot_cv(StratifiedKFold(n_splits=5), iris.data, iris.target)"
   ]
  },
  {
   "cell_type": "code",
   "execution_count": 45,
   "id": "e6187c3e",
   "metadata": {},
   "outputs": [
    {
     "data": {
      "image/png": "[encoded data removed]",
      "text/plain": [
       "<Figure size 1152x144 with 1 Axes>"
      ]
     },
     "metadata": {
      "needs_background": "light"
     },
     "output_type": "display_data"
    }
   ],
   "source": [
    "plot_cv(KFold(n_splits=5), iris.data, iris.target)"
   ]
  },
  {
   "cell_type": "code",
   "execution_count": 47,
   "id": "9372d984",
   "metadata": {},
   "outputs": [
    {
     "data": {
      "image/png": "[encoded data removed]",
      "text/plain": [
       "<Figure size 1152x144 with 1 Axes>"
      ]
     },
     "metadata": {
      "needs_background": "light"
     },
     "output_type": "display_data"
    }
   ],
   "source": [
    "plot_cv(KFold(n_splits=10), iris.data, iris.target)"
   ]
  },
  {
   "cell_type": "code",
   "execution_count": 49,
   "id": "deb0a48b",
   "metadata": {},
   "outputs": [
    {
     "data": {
      "image/png": "[encoded data removed]",
      "text/plain": [
       "<Figure size 1152x144 with 1 Axes>"
      ]
     },
     "metadata": {
      "needs_background": "light"
     },
     "output_type": "display_data"
    }
   ],
   "source": [
    "plot_cv(ShuffleSplit(n_splits=5, test_size=.2), iris.data, iris.target)"
   ]
  },
  {
   "cell_type": "code",
   "execution_count": 50,
   "id": "0894f307",
   "metadata": {},
   "outputs": [
    {
     "data": {
      "image/png": "[encoded data removed]",
      "text/plain": [
       "<Figure size 1152x153.6 with 1 Axes>"
      ]
     },
     "metadata": {
      "needs_background": "light"
     },
     "output_type": "display_data"
    }
   ],
   "source": [
    "plot_cv(ShuffleSplit(n_splits=20, test_size=.2), iris.data, iris.target)"
   ]
  },
  {
   "cell_type": "code",
   "execution_count": 51,
   "id": "66891ced",
   "metadata": {},
   "outputs": [],
   "source": [
    "cv = ShuffleSplit(n_splits=5, test_size=.2)"
   ]
  },
  {
   "cell_type": "code",
   "execution_count": 52,
   "id": "04d26478",
   "metadata": {},
   "outputs": [
    {
     "data": {
      "text/plain": [
       "array([0.96666667, 0.96666667, 0.96666667, 0.93333333, 0.96666667])"
      ]
     },
     "execution_count": 52,
     "metadata": {},
     "output_type": "execute_result"
    }
   ],
   "source": [
    "cross_val_score(classifier, iris.data, iris.target, cv=cv)"
   ]
  },
  {
   "cell_type": "code",
   "execution_count": 53,
   "id": "8746e5fc",
   "metadata": {},
   "outputs": [
    {
     "data": {
      "text/plain": [
       "{'algorithm': 'auto',\n",
       " 'leaf_size': 30,\n",
       " 'metric': 'minkowski',\n",
       " 'metric_params': None,\n",
       " 'n_jobs': None,\n",
       " 'n_neighbors': 5,\n",
       " 'p': 2,\n",
       " 'weights': 'uniform'}"
      ]
     },
     "execution_count": 53,
     "metadata": {},
     "output_type": "execute_result"
    }
   ],
   "source": [
    "classifier.get_params()"
   ]
  },
  {
   "cell_type": "code",
   "execution_count": 54,
   "id": "1bd07773",
   "metadata": {},
   "outputs": [],
   "source": [
    "from sklearn.datasets import load_breast_cancer\n",
    "from sklearn.metrics import classification_report, confusion_matrix\n",
    "from sklearn.svm import SVC\n",
    "from sklearn.model_selection import GridSearchCV, train_test_split"
   ]
  },
  {
   "cell_type": "code",
   "execution_count": 55,
   "id": "b65a665c",
   "metadata": {},
   "outputs": [],
   "source": [
    "dataset = load_breast_cancer()\n",
    "X, y = dataset.data, dataset.target\n",
    "\n",
    "X_train, X_test, y_train, y_test = train_test_split(X,y, test_size=.3, random_state=101)"
   ]
  },
  {
   "cell_type": "code",
   "execution_count": 56,
   "id": "a3c7e713",
   "metadata": {},
   "outputs": [],
   "source": [
    "model = SVC()\n",
    "model.fit(X_train, y_train)\n",
    "predictions = model.predict(X_test)"
   ]
  },
  {
   "cell_type": "code",
   "execution_count": 57,
   "id": "0ebd0aab",
   "metadata": {},
   "outputs": [
    {
     "name": "stdout",
     "output_type": "stream",
     "text": [
      "              precision    recall  f1-score   support\n",
      "\n",
      "           0       0.95      0.85      0.90        66\n",
      "           1       0.91      0.97      0.94       105\n",
      "\n",
      "    accuracy                           0.92       171\n",
      "   macro avg       0.93      0.91      0.92       171\n",
      "weighted avg       0.93      0.92      0.92       171\n",
      "\n"
     ]
    }
   ],
   "source": [
    "print(classification_report(y_test, predictions))"
   ]
  },
  {
   "cell_type": "code",
   "execution_count": 59,
   "id": "3b91af61",
   "metadata": {},
   "outputs": [],
   "source": [
    "param_grid = {\n",
    "    'C': [0.1, 1, 10, 100],\n",
    "    'gamma': [1, 0.1, 0.01, 0.001, 0.0001, 'scale', 'auto'],\n",
    "    'kernel': ['linear']\n",
    "}"
   ]
  },
  {
   "cell_type": "code",
   "execution_count": 60,
   "id": "89a8e624",
   "metadata": {},
   "outputs": [],
   "source": [
    "grid = GridSearchCV(SVC(), param_grid, refit=True, verbose=3, n_jobs=-1)"
   ]
  },
  {
   "cell_type": "code",
   "execution_count": 61,
   "id": "c4637eed",
   "metadata": {},
   "outputs": [
    {
     "name": "stdout",
     "output_type": "stream",
     "text": [
      "Fitting 5 folds for each of 28 candidates, totalling 140 fits\n"
     ]
    },
    {
     "data": {
      "text/plain": [
       "GridSearchCV(estimator=SVC(), n_jobs=-1,\n",
       "             param_grid={'C': [0.1, 1, 10, 100],\n",
       "                         'gamma': [1, 0.1, 0.01, 0.001, 0.0001, 'scale',\n",
       "                                   'auto'],\n",
       "                         'kernel': ['linear']},\n",
       "             verbose=3)"
      ]
     },
     "execution_count": 61,
     "metadata": {},
     "output_type": "execute_result"
    }
   ],
   "source": [
    "grid.fit(X_train, y_train)"
   ]
  },
  {
   "cell_type": "code",
   "execution_count": 62,
   "id": "14fe3bcc",
   "metadata": {},
   "outputs": [
    {
     "data": {
      "text/plain": [
       "{'C': 100, 'gamma': 1, 'kernel': 'linear'}"
      ]
     },
     "execution_count": 62,
     "metadata": {},
     "output_type": "execute_result"
    }
   ],
   "source": [
    "grid.best_params_"
   ]
  },
  {
   "cell_type": "code",
   "execution_count": 63,
   "id": "faf2cd43",
   "metadata": {},
   "outputs": [],
   "source": [
    "grid_predictions = grid.predict(X_test)"
   ]
  },
  {
   "cell_type": "code",
   "execution_count": 64,
   "id": "7f1344bb",
   "metadata": {},
   "outputs": [
    {
     "name": "stdout",
     "output_type": "stream",
     "text": [
      "              precision    recall  f1-score   support\n",
      "\n",
      "           0       0.97      0.91      0.94        66\n",
      "           1       0.94      0.98      0.96       105\n",
      "\n",
      "    accuracy                           0.95       171\n",
      "   macro avg       0.96      0.95      0.95       171\n",
      "weighted avg       0.95      0.95      0.95       171\n",
      "\n",
      "[CV 3/5] END ...C=0.1, gamma=0.1, kernel=linear;, score=0.988 total time=   0.0s\n",
      "[CV 4/5] END ..C=0.1, gamma=0.01, kernel=linear;, score=0.937 total time=   0.0s\n",
      "[CV 1/5] END .C=0.1, gamma=0.001, kernel=linear;, score=0.950 total time=   0.0s\n",
      "[CV 2/5] END C=0.1, gamma=0.0001, kernel=linear;, score=0.925 total time=   0.0s\n",
      "[CV 4/5] END .C=0.1, gamma=scale, kernel=linear;, score=0.937 total time=   0.0s\n",
      "[CV 4/5] END ..C=0.1, gamma=auto, kernel=linear;, score=0.937 total time=   0.0s\n",
      "[CV 5/5] END .......C=1, gamma=1, kernel=linear;, score=0.987 total time=   0.2s\n",
      "[CV 4/5] END .....C=1, gamma=0.1, kernel=linear;, score=0.937 total time=   0.4s\n",
      "[CV 2/5] END ..C=1, gamma=0.0001, kernel=linear;, score=0.938 total time=   0.3s\n",
      "[CV 3/5] END ..C=1, gamma=0.0001, kernel=linear;, score=1.000 total time=   0.5s\n",
      "[CV 3/5] END ......C=10, gamma=1, kernel=linear;, score=1.000 total time=   1.3s\n",
      "[CV 4/5] END ......C=10, gamma=1, kernel=linear;, score=0.949 total time=   3.2s\n",
      "[CV 3/5] END .C=10, gamma=0.0001, kernel=linear;, score=1.000 total time=   1.4s\n",
      "[CV 4/5] END .C=10, gamma=0.0001, kernel=linear;, score=0.949 total time=   3.2s\n",
      "[CV 4/5] END .....C=100, gamma=1, kernel=linear;, score=0.949 total time=   7.6s\n",
      "[CV 5/5] END .....C=100, gamma=1, kernel=linear;, score=0.987 total time=   4.1s\n",
      "[CV 1/5] END ..C=100, gamma=auto, kernel=linear;, score=0.950 total time=   2.2s\n",
      "[CV 3/5] END .....C=0.1, gamma=1, kernel=linear;, score=0.988 total time=   0.0s\n",
      "[CV 5/5] END ...C=0.1, gamma=0.1, kernel=linear;, score=0.962 total time=   0.1s\n",
      "[CV 3/5] END C=0.1, gamma=0.0001, kernel=linear;, score=0.988 total time=   0.0s\n",
      "[CV 2/5] END .C=0.1, gamma=scale, kernel=linear;, score=0.925 total time=   0.0s\n",
      "[CV 2/5] END ..C=0.1, gamma=auto, kernel=linear;, score=0.925 total time=   0.0s\n",
      "[CV 2/5] END .......C=1, gamma=1, kernel=linear;, score=0.938 total time=   0.3s\n",
      "[CV 5/5] END .....C=1, gamma=0.1, kernel=linear;, score=0.987 total time=   0.2s\n",
      "[CV 5/5] END ...C=1, gamma=0.001, kernel=linear;, score=0.987 total time=   0.2s\n",
      "[CV 1/5] END ..C=1, gamma=0.0001, kernel=linear;, score=0.950 total time=   0.4s\n",
      "[CV 2/5] END ....C=1, gamma=auto, kernel=linear;, score=0.938 total time=   0.3s\n",
      "[CV 3/5] END ....C=1, gamma=auto, kernel=linear;, score=1.000 total time=   0.5s\n",
      "[CV 5/5] END ...C=10, gamma=0.01, kernel=linear;, score=0.987 total time=   2.6s\n",
      "[CV 1/5] END ..C=10, gamma=0.001, kernel=linear;, score=0.938 total time=   2.6s\n",
      "[CV 1/5] END ...C=10, gamma=auto, kernel=linear;, score=0.938 total time=   2.6s\n",
      "[CV 2/5] END ...C=10, gamma=auto, kernel=linear;, score=0.938 total time=   0.8s\n",
      "[CV 1/5] END ...C=100, gamma=0.1, kernel=linear;, score=0.950 total time=   2.1s\n",
      "[CV 2/5] END ...C=100, gamma=0.1, kernel=linear;, score=0.950 total time=   0.9s\n",
      "[CV 4/5] END ..C=100, gamma=0.01, kernel=linear;, score=0.949 total time=   7.6s\n",
      "[CV 3/5] END .C=100, gamma=scale, kernel=linear;, score=1.000 total time=   3.9s\n",
      "[CV 2/5] END ...C=0.1, gamma=0.1, kernel=linear;, score=0.925 total time=   0.0s\n",
      "[CV 5/5] END .C=0.1, gamma=0.001, kernel=linear;, score=0.962 total time=   0.1s\n",
      "[CV 5/5] END ..C=0.1, gamma=auto, kernel=linear;, score=0.962 total time=   0.1s\n",
      "[CV 3/5] END .....C=1, gamma=0.1, kernel=linear;, score=1.000 total time=   0.5s\n",
      "[CV 3/5] END ...C=1, gamma=0.001, kernel=linear;, score=1.000 total time=   0.5s\n",
      "[CV 4/5] END ...C=1, gamma=0.001, kernel=linear;, score=0.937 total time=   0.5s\n",
      "[CV 5/5] END ......C=10, gamma=1, kernel=linear;, score=0.987 total time=   2.6s\n",
      "[CV 1/5] END ....C=10, gamma=0.1, kernel=linear;, score=0.938 total time=   2.6s\n",
      "[CV 4/5] END ..C=10, gamma=scale, kernel=linear;, score=0.949 total time=   3.2s\n",
      "[CV 5/5] END ..C=10, gamma=scale, kernel=linear;, score=0.987 total time=   2.6s\n",
      "[CV 1/5] END ..C=100, gamma=0.01, kernel=linear;, score=0.950 total time=   2.1s\n",
      "[CV 1/5] END .C=100, gamma=0.001, kernel=linear;, score=0.950 total time=   2.1s\n",
      "[CV 5/5] END .C=100, gamma=0.001, kernel=linear;, score=0.987 total time=   4.1s\n",
      "[CV 2/5] END .C=100, gamma=scale, kernel=linear;, score=0.950 total time=   0.9s\n",
      "[CV 5/5] END .C=100, gamma=scale, kernel=linear;, score=0.987 total time=   4.0s\n",
      "[CV 2/5] END .....C=0.1, gamma=1, kernel=linear;, score=0.925 total time=   0.0s\n",
      "[CV 3/5] END ..C=0.1, gamma=0.01, kernel=linear;, score=0.988 total time=   0.0s\n",
      "[CV 2/5] END .C=0.1, gamma=0.001, kernel=linear;, score=0.925 total time=   0.0s\n",
      "[CV 4/5] END C=0.1, gamma=0.0001, kernel=linear;, score=0.937 total time=   0.0s\n",
      "[CV 3/5] END .C=0.1, gamma=scale, kernel=linear;, score=0.988 total time=   0.0s\n",
      "[CV 1/5] END .......C=1, gamma=1, kernel=linear;, score=0.950 total time=   0.4s\n",
      "[CV 3/5] END ....C=1, gamma=0.01, kernel=linear;, score=1.000 total time=   0.5s\n",
      "[CV 3/5] END ...C=1, gamma=scale, kernel=linear;, score=1.000 total time=   0.5s\n",
      "[CV 4/5] END ...C=1, gamma=scale, kernel=linear;, score=0.937 total time=   0.4s\n",
      "[CV 1/5] END ...C=10, gamma=0.01, kernel=linear;, score=0.938 total time=   2.6s\n",
      "[CV 2/5] END ...C=10, gamma=0.01, kernel=linear;, score=0.938 total time=   0.8s\n",
      "[CV 1/5] END .C=10, gamma=0.0001, kernel=linear;, score=0.938 total time=   2.6s\n",
      "[CV 2/5] END .C=10, gamma=0.0001, kernel=linear;, score=0.938 total time=   0.9s\n",
      "[CV 5/5] END ...C=10, gamma=auto, kernel=linear;, score=0.987 total time=   2.6s\n",
      "[CV 1/5] END .....C=100, gamma=1, kernel=linear;, score=0.950 total time=   2.1s\n",
      "[CV 2/5] END ..C=100, gamma=0.01, kernel=linear;, score=0.950 total time=   0.8s\n",
      "[CV 5/5] END ..C=100, gamma=0.01, kernel=linear;, score=0.987 total time=   4.1s\n",
      "[CV 2/5] END C=100, gamma=0.0001, kernel=linear;, score=0.950 total time=   0.9s\n",
      "[CV 4/5] END C=100, gamma=0.0001, kernel=linear;, score=0.949 total time=   7.3s\n",
      "[CV 1/5] END .....C=0.1, gamma=1, kernel=linear;, score=0.950 total time=   0.0s\n",
      "[CV 4/5] END ...C=0.1, gamma=0.1, kernel=linear;, score=0.937 total time=   0.0s\n",
      "[CV 1/5] END ..C=0.1, gamma=0.01, kernel=linear;, score=0.950 total time=   0.0s\n",
      "[CV 4/5] END .C=0.1, gamma=0.001, kernel=linear;, score=0.937 total time=   0.0s\n",
      "[CV 5/5] END C=0.1, gamma=0.0001, kernel=linear;, score=0.962 total time=   0.1s\n",
      "[CV 4/5] END .......C=1, gamma=1, kernel=linear;, score=0.937 total time=   0.4s\n",
      "[CV 2/5] END ....C=1, gamma=0.01, kernel=linear;, score=0.938 total time=   0.3s\n",
      "[CV 4/5] END ..C=1, gamma=0.0001, kernel=linear;, score=0.937 total time=   0.4s\n",
      "[CV 5/5] END ..C=1, gamma=0.0001, kernel=linear;, score=0.987 total time=   0.2s\n",
      "[CV 1/5] END ......C=10, gamma=1, kernel=linear;, score=0.938 total time=   2.6s\n",
      "[CV 2/5] END ......C=10, gamma=1, kernel=linear;, score=0.938 total time=   0.8s\n",
      "[CV 4/5] END ..C=10, gamma=0.001, kernel=linear;, score=0.949 total time=   3.2s\n",
      "[CV 5/5] END ..C=10, gamma=0.001, kernel=linear;, score=0.987 total time=   2.6s\n",
      "[CV 3/5] END ...C=100, gamma=0.1, kernel=linear;, score=1.000 total time=   3.9s\n",
      "[CV 2/5] END .C=100, gamma=0.001, kernel=linear;, score=0.950 total time=   0.8s\n",
      "[CV 3/5] END .C=100, gamma=0.001, kernel=linear;, score=1.000 total time=   3.9s\n",
      "[CV 5/5] END C=100, gamma=0.0001, kernel=linear;, score=0.987 total time=   4.2s\n",
      "[CV 3/5] END ..C=100, gamma=auto, kernel=linear;, score=1.000 total time=   3.3s\n",
      "[CV 1/5] END ...C=0.1, gamma=0.1, kernel=linear;, score=0.950 total time=   0.0s\n",
      "[CV 1/5] END C=0.1, gamma=0.0001, kernel=linear;, score=0.950 total time=   0.0s\n",
      "[CV 1/5] END ..C=0.1, gamma=auto, kernel=linear;, score=0.950 total time=   0.0s\n",
      "[CV 1/5] END .....C=1, gamma=0.1, kernel=linear;, score=0.950 total time=   0.4s\n",
      "[CV 4/5] END ....C=1, gamma=0.01, kernel=linear;, score=0.937 total time=   0.4s\n",
      "[CV 5/5] END ....C=1, gamma=0.01, kernel=linear;, score=0.987 total time=   0.2s\n",
      "[CV 5/5] END ...C=1, gamma=scale, kernel=linear;, score=0.987 total time=   0.2s\n",
      "[CV 1/5] END ....C=1, gamma=auto, kernel=linear;, score=0.950 total time=   0.4s\n",
      "[CV 4/5] END ....C=10, gamma=0.1, kernel=linear;, score=0.949 total time=   3.2s\n",
      "[CV 5/5] END ....C=10, gamma=0.1, kernel=linear;, score=0.987 total time=   2.6s\n",
      "[CV 3/5] END ...C=10, gamma=auto, kernel=linear;, score=1.000 total time=   1.4s\n",
      "[CV 4/5] END ...C=10, gamma=auto, kernel=linear;, score=0.949 total time=   3.2s\n",
      "[CV 5/5] END ...C=100, gamma=0.1, kernel=linear;, score=0.987 total time=   4.1s\n",
      "[CV 4/5] END .C=100, gamma=0.001, kernel=linear;, score=0.949 total time=   7.7s\n",
      "[CV 5/5] END ..C=100, gamma=auto, kernel=linear;, score=0.987 total time=   3.4s\n"
     ]
    },
    {
     "name": "stdout",
     "output_type": "stream",
     "text": [
      "[CV 5/5] END .....C=0.1, gamma=1, kernel=linear;, score=0.962 total time=   0.1s\n",
      "[CV 3/5] END .C=0.1, gamma=0.001, kernel=linear;, score=0.988 total time=   0.0s\n",
      "[CV 1/5] END .C=0.1, gamma=scale, kernel=linear;, score=0.950 total time=   0.0s\n",
      "[CV 3/5] END ..C=0.1, gamma=auto, kernel=linear;, score=0.988 total time=   0.0s\n",
      "[CV 3/5] END .......C=1, gamma=1, kernel=linear;, score=1.000 total time=   0.5s\n",
      "[CV 1/5] END ...C=1, gamma=0.001, kernel=linear;, score=0.950 total time=   0.5s\n",
      "[CV 2/5] END ...C=1, gamma=0.001, kernel=linear;, score=0.938 total time=   0.3s\n",
      "[CV 4/5] END ....C=1, gamma=auto, kernel=linear;, score=0.937 total time=   0.4s\n",
      "[CV 5/5] END ....C=1, gamma=auto, kernel=linear;, score=0.987 total time=   0.2s\n",
      "[CV 3/5] END ...C=10, gamma=0.01, kernel=linear;, score=1.000 total time=   1.4s\n",
      "[CV 4/5] END ...C=10, gamma=0.01, kernel=linear;, score=0.949 total time=   3.2s\n",
      "[CV 2/5] END ..C=10, gamma=scale, kernel=linear;, score=0.938 total time=   0.8s\n",
      "[CV 3/5] END ..C=10, gamma=scale, kernel=linear;, score=1.000 total time=   1.4s\n",
      "[CV 2/5] END .....C=100, gamma=1, kernel=linear;, score=0.950 total time=   0.9s\n",
      "[CV 3/5] END .....C=100, gamma=1, kernel=linear;, score=1.000 total time=   3.9s\n",
      "[CV 3/5] END ..C=100, gamma=0.01, kernel=linear;, score=1.000 total time=   3.8s\n",
      "[CV 1/5] END C=100, gamma=0.0001, kernel=linear;, score=0.950 total time=   2.1s\n",
      "[CV 1/5] END .C=100, gamma=scale, kernel=linear;, score=0.950 total time=   2.1s\n",
      "[CV 4/5] END .C=100, gamma=scale, kernel=linear;, score=0.949 total time=   6.4s\n",
      "[CV 4/5] END .....C=0.1, gamma=1, kernel=linear;, score=0.937 total time=   0.0s\n",
      "[CV 2/5] END ..C=0.1, gamma=0.01, kernel=linear;, score=0.925 total time=   0.0s\n",
      "[CV 5/5] END ..C=0.1, gamma=0.01, kernel=linear;, score=0.962 total time=   0.1s\n",
      "[CV 5/5] END .C=0.1, gamma=scale, kernel=linear;, score=0.962 total time=   0.1s\n",
      "[CV 2/5] END .....C=1, gamma=0.1, kernel=linear;, score=0.938 total time=   0.3s\n",
      "[CV 1/5] END ....C=1, gamma=0.01, kernel=linear;, score=0.950 total time=   0.4s\n",
      "[CV 1/5] END ...C=1, gamma=scale, kernel=linear;, score=0.950 total time=   0.4s\n",
      "[CV 2/5] END ...C=1, gamma=scale, kernel=linear;, score=0.938 total time=   0.4s\n",
      "[CV 2/5] END ....C=10, gamma=0.1, kernel=linear;, score=0.938 total time=   0.8s\n",
      "[CV 3/5] END ....C=10, gamma=0.1, kernel=linear;, score=1.000 total time=   1.4s\n",
      "[CV 2/5] END ..C=10, gamma=0.001, kernel=linear;, score=0.938 total time=   0.8s\n",
      "[CV 3/5] END ..C=10, gamma=0.001, kernel=linear;, score=1.000 total time=   1.4s\n",
      "[CV 5/5] END .C=10, gamma=0.0001, kernel=linear;, score=0.987 total time=   2.6s\n",
      "[CV 1/5] END ..C=10, gamma=scale, kernel=linear;, score=0.938 total time=   2.6s\n",
      "[CV 4/5] END ...C=100, gamma=0.1, kernel=linear;, score=0.949 total time=   7.6s\n",
      "[CV 3/5] END C=100, gamma=0.0001, kernel=linear;, score=1.000 total time=   3.9s\n",
      "[CV 2/5] END ..C=100, gamma=auto, kernel=linear;, score=0.950 total time=   0.9s\n",
      "[CV 4/5] END ..C=100, gamma=auto, kernel=linear;, score=0.949 total time=   5.6s\n"
     ]
    }
   ],
   "source": [
    "print(classification_report(y_test, grid_predictions))"
   ]
  }
 ],
 "metadata": {
  "kernelspec": {
   "display_name": "Python 3 (ipykernel)",
   "language": "python",
   "name": "python3"
  },
  "language_info": {
   "codemirror_mode": {
    "name": "ipython",
    "version": 3
   },
   "file_extension": ".py",
   "mimetype": "text/x-python",
   "name": "python",
   "nbconvert_exporter": "python",
   "pygments_lexer": "ipython3",
   "version": "3.10.1"
  }
 },
 "nbformat": 4,
 "nbformat_minor": 5
}
