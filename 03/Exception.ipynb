{
 "cells": [
  {
   "cell_type": "code",
   "execution_count": null,
   "id": "c55de774",
   "metadata": {},
   "outputs": [],
   "source": [
    "class MyOwnException(TypeError):\n",
    "    pass\n",
    "\n",
    "def func(a, b):\n",
    "    try:\n",
    "        return a / b\n",
    "    except ZeroDivisionError:\n",
    "        print('Nope')\n",
    "    finally:\n",
    "        print('Done')\n",
    "    if isinstance(b, str) or isinstance(a, str):\n",
    "        raise MyOwnException(\"Don\")"
   ]
  }
 ],
 "metadata": {
  "kernelspec": {
   "display_name": "Python 3 (ipykernel)",
   "language": "python",
   "name": "python3"
  },
  "language_info": {
   "codemirror_mode": {
    "name": "ipython",
    "version": 3
   },
   "file_extension": ".py",
   "mimetype": "text/x-python",
   "name": "python",
   "nbconvert_exporter": "python",
   "pygments_lexer": "ipython3",
   "version": "3.10.1"
  }
 },
 "nbformat": 4,
 "nbformat_minor": 5
}
