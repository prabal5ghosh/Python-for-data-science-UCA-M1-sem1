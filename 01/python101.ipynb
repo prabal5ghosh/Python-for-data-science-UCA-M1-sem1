{
 "cells": [
  {
   "cell_type": "markdown",
   "id": "54804672",
   "metadata": {},
   "source": [
    "## Python 101\n",
    "\n",
    "\n",
    "### Builtins\n",
    "1. Create a list of all even numbers from 1 to 100.\n",
    "2. Create a dictionary mapping the letters of the english alphabet to the squares of the first 26 integers.\n",
    "3. Create a set of all unique elements in a list.\n",
    "4. Find the largest element in a tuple.\n",
    "5. Sort a list of strings in alphabetical order.\n",
    "6. Reverse a list.\n",
    "7. Count the number of occurrences of a given element in a list.\n",
    "8. Remove all duplicates from a list.\n",
    "9. Find the intersection of two sets.\n",
    "10. Find the union of two sets.\n",
    "11. Check if a list is empty.\n",
    "12. Check if two lists are equal.\n",
    "13. Check if two dictionaries are equal.\n",
    "14. Find the index of an element in a list.\n",
    "15. Find the key of a value in a dictionary."
   ]
  },
  {
   "cell_type": "code",
   "execution_count": 1,
   "id": "9ea00a29",
   "metadata": {},
   "outputs": [],
   "source": [
    "# one cell per question\n",
    "# question 1"
   ]
  },
  {
   "cell_type": "markdown",
   "id": "81edf34e",
   "metadata": {},
   "source": [
    "### Loops\n",
    "\n",
    "1. Print the numbers from 1 to 100 using a while loop.\n",
    "2. Print the even numbers from 1 to 100 using a for loop.\n",
    "3. Find the sum of all elements in a list using a for loop.\n",
    "4. Find the average of all elements in a list using a for loop.\n",
    "5. Find the maximum element in a list using a for loop.\n",
    "6. Find the minimum element in a list using a for loop.\n",
    "7. Reverse a list using a for loop.\n",
    "8. Sort a list in ascending order using a for loop.\n",
    "9. Sort a list in descending order using a for loop."
   ]
  },
  {
   "cell_type": "code",
   "execution_count": 2,
   "id": "ca584bed",
   "metadata": {},
   "outputs": [],
   "source": [
    "# one cell per question\n",
    "# question 1"
   ]
  },
  {
   "cell_type": "markdown",
   "id": "83a5da1b",
   "metadata": {},
   "source": [
    "### Generators\n",
    "\n",
    "1. Print the first 10 prime numbers using a generator function.\n",
    "2. Print the first 10 Fibonacci numbers using a generator function.\n",
    "3. Print the first 10 powers of 2 using a generator function.\n",
    "4. Print the factorial of a number using a generator function."
   ]
  },
  {
   "cell_type": "code",
   "execution_count": 3,
   "id": "0f17f77d",
   "metadata": {},
   "outputs": [],
   "source": [
    "# one cell per question\n",
    "# question 1"
   ]
  }
 ],
 "metadata": {
  "kernelspec": {
   "display_name": "Python 3 (ipykernel)",
   "language": "python",
   "name": "python3"
  },
  "language_info": {
   "codemirror_mode": {
    "name": "ipython",
    "version": 3
   },
   "file_extension": ".py",
   "mimetype": "text/x-python",
   "name": "python",
   "nbconvert_exporter": "python",
   "pygments_lexer": "ipython3",
   "version": "3.10.1"
  }
 },
 "nbformat": 4,
 "nbformat_minor": 5
}
