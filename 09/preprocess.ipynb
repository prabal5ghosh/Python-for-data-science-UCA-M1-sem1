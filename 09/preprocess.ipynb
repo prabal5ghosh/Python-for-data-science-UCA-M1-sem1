{
 "cells": [
  {
   "cell_type": "code",
   "execution_count": 1,
   "id": "dc856a6f",
   "metadata": {},
   "outputs": [],
   "source": [
    "import pandas as pd\n",
    "import numpy as np\n",
    "df = pd.read_csv('full.csv')"
   ]
  },
  {
   "cell_type": "code",
   "execution_count": 3,
   "id": "a923628c",
   "metadata": {},
   "outputs": [
    {
     "data": {
      "text/plain": [
       "Index(['Identifiant', 'NOM DE FAMILLE', 'Complement du nom', 'Prenom', 'Sexe',\n",
       "       'Naissance ', 'Deces', 'PERE', 'MERE', 'Frere(s)', 'Sœur(s)',\n",
       "       'Conjoint', 'Residence'],\n",
       "      dtype='object')"
      ]
     },
     "execution_count": 3,
     "metadata": {},
     "output_type": "execute_result"
    }
   ],
   "source": [
    "df.columns"
   ]
  },
  {
   "cell_type": "code",
   "execution_count": 4,
   "id": "602e01d9",
   "metadata": {},
   "outputs": [],
   "source": [
    "cols = ['id', 'surname', 'complement', 'name', 'sex', 'birth', 'death',\n",
    "       'father', 'mother', 'brothers', 'sisters', 'spouse', 'residence']"
   ]
  },
  {
   "cell_type": "code",
   "execution_count": 5,
   "id": "4f948b9b",
   "metadata": {},
   "outputs": [
    {
     "data": {
      "text/plain": [
       "True"
      ]
     },
     "execution_count": 5,
     "metadata": {},
     "output_type": "execute_result"
    }
   ],
   "source": [
    "len(cols) == len(df.columns)"
   ]
  },
  {
   "cell_type": "code",
   "execution_count": 6,
   "id": "7cbd24d8",
   "metadata": {},
   "outputs": [],
   "source": [
    "df.columns = cols"
   ]
  },
  {
   "cell_type": "code",
   "execution_count": 7,
   "id": "ba7e629d",
   "metadata": {},
   "outputs": [
    {
     "data": {
      "text/html": [
       "<div>\n",
       "<style scoped>\n",
       "    .dataframe tbody tr th:only-of-type {\n",
       "        vertical-align: middle;\n",
       "    }\n",
       "\n",
       "    .dataframe tbody tr th {\n",
       "        vertical-align: top;\n",
       "    }\n",
       "\n",
       "    .dataframe thead th {\n",
       "        text-align: right;\n",
       "    }\n",
       "</style>\n",
       "<table border=\"1\" class=\"dataframe\">\n",
       "  <thead>\n",
       "    <tr style=\"text-align: right;\">\n",
       "      <th></th>\n",
       "      <th>id</th>\n",
       "      <th>surname</th>\n",
       "      <th>complement</th>\n",
       "      <th>name</th>\n",
       "      <th>sex</th>\n",
       "      <th>birth</th>\n",
       "      <th>death</th>\n",
       "      <th>father</th>\n",
       "      <th>mother</th>\n",
       "      <th>brothers</th>\n",
       "      <th>sisters</th>\n",
       "      <th>spouse</th>\n",
       "      <th>residence</th>\n",
       "    </tr>\n",
       "  </thead>\n",
       "  <tbody>\n",
       "    <tr>\n",
       "      <th>0</th>\n",
       "      <td>1</td>\n",
       "      <td>DE BRUN</td>\n",
       "      <td>DE CASTELLANE</td>\n",
       "      <td>André</td>\n",
       "      <td>M</td>\n",
       "      <td>1659</td>\n",
       "      <td>NaN</td>\n",
       "      <td>10001</td>\n",
       "      <td>10002</td>\n",
       "      <td>NaN</td>\n",
       "      <td>NaN</td>\n",
       "      <td>NaN</td>\n",
       "      <td>NaN</td>\n",
       "    </tr>\n",
       "    <tr>\n",
       "      <th>1</th>\n",
       "      <td>2</td>\n",
       "      <td>DE DURAND</td>\n",
       "      <td>SARTOUX</td>\n",
       "      <td>Pierre</td>\n",
       "      <td>M</td>\n",
       "      <td>1616</td>\n",
       "      <td>NaN</td>\n",
       "      <td>11157</td>\n",
       "      <td>11158</td>\n",
       "      <td>14 ; 11252</td>\n",
       "      <td>NaN</td>\n",
       "      <td>NaN</td>\n",
       "      <td>NaN</td>\n",
       "    </tr>\n",
       "    <tr>\n",
       "      <th>2</th>\n",
       "      <td>153</td>\n",
       "      <td>DE BADAT</td>\n",
       "      <td>ROUBION</td>\n",
       "      <td>Etienne</td>\n",
       "      <td>M</td>\n",
       "      <td>1580c</td>\n",
       "      <td>NaN</td>\n",
       "      <td>0</td>\n",
       "      <td>0</td>\n",
       "      <td>NaN</td>\n",
       "      <td>NaN</td>\n",
       "      <td>NaN</td>\n",
       "      <td>NaN</td>\n",
       "    </tr>\n",
       "    <tr>\n",
       "      <th>3</th>\n",
       "      <td>154</td>\n",
       "      <td>D'AGOULT</td>\n",
       "      <td>OLLIERES</td>\n",
       "      <td>Gaspard</td>\n",
       "      <td>M</td>\n",
       "      <td>NaN</td>\n",
       "      <td>NaN</td>\n",
       "      <td>11379</td>\n",
       "      <td>11380</td>\n",
       "      <td>177</td>\n",
       "      <td>NaN</td>\n",
       "      <td>NaN</td>\n",
       "      <td>NaN</td>\n",
       "    </tr>\n",
       "    <tr>\n",
       "      <th>4</th>\n",
       "      <td>177</td>\n",
       "      <td>D'AGOULT</td>\n",
       "      <td>OLLIERES</td>\n",
       "      <td>Melchior</td>\n",
       "      <td>M</td>\n",
       "      <td>NaN</td>\n",
       "      <td>NaN</td>\n",
       "      <td>11379</td>\n",
       "      <td>11380</td>\n",
       "      <td>154</td>\n",
       "      <td>NaN</td>\n",
       "      <td>NaN</td>\n",
       "      <td>NaN</td>\n",
       "    </tr>\n",
       "  </tbody>\n",
       "</table>\n",
       "</div>"
      ],
      "text/plain": [
       "    id    surname     complement      name sex  birth death  father  mother  \\\n",
       "0    1    DE BRUN  DE CASTELLANE     André   M   1659   NaN   10001   10002   \n",
       "1    2  DE DURAND        SARTOUX    Pierre   M   1616   NaN   11157   11158   \n",
       "2  153   DE BADAT        ROUBION   Etienne   M  1580c   NaN       0       0   \n",
       "3  154   D'AGOULT       OLLIERES   Gaspard   M    NaN   NaN   11379   11380   \n",
       "4  177   D'AGOULT       OLLIERES  Melchior   M    NaN   NaN   11379   11380   \n",
       "\n",
       "     brothers sisters spouse residence  \n",
       "0         NaN     NaN    NaN       NaN  \n",
       "1  14 ; 11252     NaN    NaN       NaN  \n",
       "2         NaN     NaN    NaN       NaN  \n",
       "3         177     NaN    NaN       NaN  \n",
       "4         154     NaN    NaN       NaN  "
      ]
     },
     "execution_count": 7,
     "metadata": {},
     "output_type": "execute_result"
    }
   ],
   "source": [
    "df.head()"
   ]
  },
  {
   "cell_type": "code",
   "execution_count": 8,
   "id": "777a184e",
   "metadata": {},
   "outputs": [
    {
     "data": {
      "text/plain": [
       "(4043, 13)"
      ]
     },
     "execution_count": 8,
     "metadata": {},
     "output_type": "execute_result"
    }
   ],
   "source": [
    "df.shape"
   ]
  },
  {
   "cell_type": "code",
   "execution_count": 9,
   "id": "10cb873c",
   "metadata": {},
   "outputs": [
    {
     "name": "stdout",
     "output_type": "stream",
     "text": [
      "<class 'pandas.core.frame.DataFrame'>\n",
      "RangeIndex: 4043 entries, 0 to 4042\n",
      "Data columns (total 13 columns):\n",
      " #   Column      Non-Null Count  Dtype \n",
      "---  ------      --------------  ----- \n",
      " 0   id          4043 non-null   int64 \n",
      " 1   surname     3871 non-null   object\n",
      " 2   complement  2495 non-null   object\n",
      " 3   name        3866 non-null   object\n",
      " 4   sex         4037 non-null   object\n",
      " 5   birth       262 non-null    object\n",
      " 6   death       274 non-null    object\n",
      " 7   father      4043 non-null   int64 \n",
      " 8   mother      4043 non-null   int64 \n",
      " 9   brothers    313 non-null    object\n",
      " 10  sisters     175 non-null    object\n",
      " 11  spouse      36 non-null     object\n",
      " 12  residence   1187 non-null   object\n",
      "dtypes: int64(3), object(10)\n",
      "memory usage: 410.7+ KB\n"
     ]
    }
   ],
   "source": [
    "df.info()"
   ]
  },
  {
   "cell_type": "code",
   "execution_count": 10,
   "id": "db25c1e0",
   "metadata": {},
   "outputs": [],
   "source": [
    "df = df.drop(columns=['spouse', 'residence'], axis=1)"
   ]
  },
  {
   "cell_type": "code",
   "execution_count": 12,
   "id": "f82ee377",
   "metadata": {},
   "outputs": [
    {
     "data": {
      "text/plain": [
       "(4043, 11)"
      ]
     },
     "execution_count": 12,
     "metadata": {},
     "output_type": "execute_result"
    }
   ],
   "source": [
    "df.shape"
   ]
  },
  {
   "cell_type": "code",
   "execution_count": 13,
   "id": "4726ee5c",
   "metadata": {},
   "outputs": [],
   "source": [
    "df.dropna(how='all', inplace=True)"
   ]
  },
  {
   "cell_type": "code",
   "execution_count": 14,
   "id": "faf61ce9",
   "metadata": {},
   "outputs": [
    {
     "data": {
      "text/plain": [
       "(4043, 11)"
      ]
     },
     "execution_count": 14,
     "metadata": {},
     "output_type": "execute_result"
    }
   ],
   "source": [
    "df.shape"
   ]
  },
  {
   "cell_type": "code",
   "execution_count": 15,
   "id": "78c98de6",
   "metadata": {},
   "outputs": [
    {
     "data": {
      "text/plain": [
       "dtype('int64')"
      ]
     },
     "execution_count": 15,
     "metadata": {},
     "output_type": "execute_result"
    }
   ],
   "source": [
    "df['father'].dtype"
   ]
  },
  {
   "cell_type": "code",
   "execution_count": 16,
   "id": "43c336b9",
   "metadata": {},
   "outputs": [
    {
     "data": {
      "text/html": [
       "<div>\n",
       "<style scoped>\n",
       "    .dataframe tbody tr th:only-of-type {\n",
       "        vertical-align: middle;\n",
       "    }\n",
       "\n",
       "    .dataframe tbody tr th {\n",
       "        vertical-align: top;\n",
       "    }\n",
       "\n",
       "    .dataframe thead th {\n",
       "        text-align: right;\n",
       "    }\n",
       "</style>\n",
       "<table border=\"1\" class=\"dataframe\">\n",
       "  <thead>\n",
       "    <tr style=\"text-align: right;\">\n",
       "      <th></th>\n",
       "      <th>id</th>\n",
       "      <th>surname</th>\n",
       "      <th>complement</th>\n",
       "      <th>name</th>\n",
       "      <th>sex</th>\n",
       "      <th>birth</th>\n",
       "      <th>death</th>\n",
       "      <th>father</th>\n",
       "      <th>mother</th>\n",
       "      <th>brothers</th>\n",
       "      <th>sisters</th>\n",
       "    </tr>\n",
       "  </thead>\n",
       "  <tbody>\n",
       "    <tr>\n",
       "      <th>0</th>\n",
       "      <td>1</td>\n",
       "      <td>DE BRUN</td>\n",
       "      <td>DE CASTELLANE</td>\n",
       "      <td>André</td>\n",
       "      <td>M</td>\n",
       "      <td>1659</td>\n",
       "      <td>NaN</td>\n",
       "      <td>10001</td>\n",
       "      <td>10002</td>\n",
       "      <td>NaN</td>\n",
       "      <td>NaN</td>\n",
       "    </tr>\n",
       "    <tr>\n",
       "      <th>1</th>\n",
       "      <td>2</td>\n",
       "      <td>DE DURAND</td>\n",
       "      <td>SARTOUX</td>\n",
       "      <td>Pierre</td>\n",
       "      <td>M</td>\n",
       "      <td>1616</td>\n",
       "      <td>NaN</td>\n",
       "      <td>11157</td>\n",
       "      <td>11158</td>\n",
       "      <td>14 ; 11252</td>\n",
       "      <td>NaN</td>\n",
       "    </tr>\n",
       "    <tr>\n",
       "      <th>2</th>\n",
       "      <td>153</td>\n",
       "      <td>DE BADAT</td>\n",
       "      <td>ROUBION</td>\n",
       "      <td>Etienne</td>\n",
       "      <td>M</td>\n",
       "      <td>1580c</td>\n",
       "      <td>NaN</td>\n",
       "      <td>0</td>\n",
       "      <td>0</td>\n",
       "      <td>NaN</td>\n",
       "      <td>NaN</td>\n",
       "    </tr>\n",
       "    <tr>\n",
       "      <th>3</th>\n",
       "      <td>154</td>\n",
       "      <td>D'AGOULT</td>\n",
       "      <td>OLLIERES</td>\n",
       "      <td>Gaspard</td>\n",
       "      <td>M</td>\n",
       "      <td>NaN</td>\n",
       "      <td>NaN</td>\n",
       "      <td>11379</td>\n",
       "      <td>11380</td>\n",
       "      <td>177</td>\n",
       "      <td>NaN</td>\n",
       "    </tr>\n",
       "    <tr>\n",
       "      <th>4</th>\n",
       "      <td>177</td>\n",
       "      <td>D'AGOULT</td>\n",
       "      <td>OLLIERES</td>\n",
       "      <td>Melchior</td>\n",
       "      <td>M</td>\n",
       "      <td>NaN</td>\n",
       "      <td>NaN</td>\n",
       "      <td>11379</td>\n",
       "      <td>11380</td>\n",
       "      <td>154</td>\n",
       "      <td>NaN</td>\n",
       "    </tr>\n",
       "  </tbody>\n",
       "</table>\n",
       "</div>"
      ],
      "text/plain": [
       "    id    surname     complement      name sex  birth death  father  mother  \\\n",
       "0    1    DE BRUN  DE CASTELLANE     André   M   1659   NaN   10001   10002   \n",
       "1    2  DE DURAND        SARTOUX    Pierre   M   1616   NaN   11157   11158   \n",
       "2  153   DE BADAT        ROUBION   Etienne   M  1580c   NaN       0       0   \n",
       "3  154   D'AGOULT       OLLIERES   Gaspard   M    NaN   NaN   11379   11380   \n",
       "4  177   D'AGOULT       OLLIERES  Melchior   M    NaN   NaN   11379   11380   \n",
       "\n",
       "     brothers sisters  \n",
       "0         NaN     NaN  \n",
       "1  14 ; 11252     NaN  \n",
       "2         NaN     NaN  \n",
       "3         177     NaN  \n",
       "4         154     NaN  "
      ]
     },
     "execution_count": 16,
     "metadata": {},
     "output_type": "execute_result"
    }
   ],
   "source": [
    "df.head()"
   ]
  },
  {
   "cell_type": "code",
   "execution_count": 17,
   "id": "eb5ab92b",
   "metadata": {},
   "outputs": [
    {
     "data": {
      "text/plain": [
       "(2060, 11)"
      ]
     },
     "execution_count": 17,
     "metadata": {},
     "output_type": "execute_result"
    }
   ],
   "source": [
    "# 0 == not set\n",
    "idx = df['father'] == 0\n",
    "idx2 = df['mother'] == 0\n",
    "df.loc[idx, 'father'] = np.nan\n",
    "df.loc[idx2, 'mother'] = np.nan\n",
    "df[idx & idx2].shape"
   ]
  },
  {
   "cell_type": "code",
   "execution_count": 18,
   "id": "0d96f117",
   "metadata": {},
   "outputs": [],
   "source": [
    "df = df.dropna(subset=['father', 'mother'])"
   ]
  },
  {
   "cell_type": "code",
   "execution_count": 19,
   "id": "3a532956",
   "metadata": {},
   "outputs": [
    {
     "data": {
      "text/plain": [
       "(1983, 11)"
      ]
     },
     "execution_count": 19,
     "metadata": {},
     "output_type": "execute_result"
    }
   ],
   "source": [
    "df.shape"
   ]
  },
  {
   "cell_type": "code",
   "execution_count": 20,
   "id": "10ca8ec4",
   "metadata": {},
   "outputs": [
    {
     "data": {
      "text/plain": [
       "dtype('float64')"
      ]
     },
     "execution_count": 20,
     "metadata": {},
     "output_type": "execute_result"
    }
   ],
   "source": [
    "df['father'].dtype"
   ]
  },
  {
   "cell_type": "code",
   "execution_count": 21,
   "id": "f2c727b4",
   "metadata": {},
   "outputs": [
    {
     "name": "stderr",
     "output_type": "stream",
     "text": [
      "/var/folders/b3/cjvms6c10k77tgv6k_rw3jbh0000gn/T/ipykernel_31098/2448301576.py:1: SettingWithCopyWarning: \n",
      "A value is trying to be set on a copy of a slice from a DataFrame.\n",
      "Try using .loc[row_indexer,col_indexer] = value instead\n",
      "\n",
      "See the caveats in the documentation: https://pandas.pydata.org/pandas-docs/stable/user_guide/indexing.html#returning-a-view-versus-a-copy\n",
      "  df.loc[:, 'father'] = df.loc[:, 'father'].astype(int)\n",
      "/var/folders/b3/cjvms6c10k77tgv6k_rw3jbh0000gn/T/ipykernel_31098/2448301576.py:2: SettingWithCopyWarning: \n",
      "A value is trying to be set on a copy of a slice from a DataFrame.\n",
      "Try using .loc[row_indexer,col_indexer] = value instead\n",
      "\n",
      "See the caveats in the documentation: https://pandas.pydata.org/pandas-docs/stable/user_guide/indexing.html#returning-a-view-versus-a-copy\n",
      "  df.loc[:, 'mother'] = df.loc[:, 'mother'].astype(int)\n"
     ]
    }
   ],
   "source": [
    "df.loc[:, 'father'] = df.loc[:, 'father'].astype(int)\n",
    "df.loc[:, 'mother'] = df.loc[:, 'mother'].astype(int)"
   ]
  },
  {
   "cell_type": "code",
   "execution_count": 22,
   "id": "968847db",
   "metadata": {},
   "outputs": [
    {
     "data": {
      "text/plain": [
       "dtype('int64')"
      ]
     },
     "execution_count": 22,
     "metadata": {},
     "output_type": "execute_result"
    }
   ],
   "source": [
    "df['father'].dtype"
   ]
  },
  {
   "cell_type": "code",
   "execution_count": 23,
   "id": "f2bbe61e",
   "metadata": {},
   "outputs": [
    {
     "data": {
      "text/plain": [
       "M    1266\n",
       "F     717\n",
       "Name: sex, dtype: int64"
      ]
     },
     "execution_count": 23,
     "metadata": {},
     "output_type": "execute_result"
    }
   ],
   "source": [
    "df['sex'].value_counts()"
   ]
  },
  {
   "cell_type": "code",
   "execution_count": 24,
   "id": "35890061",
   "metadata": {},
   "outputs": [
    {
     "data": {
      "text/plain": [
       "0"
      ]
     },
     "execution_count": 24,
     "metadata": {},
     "output_type": "execute_result"
    }
   ],
   "source": [
    "df['surname'].isna().sum()"
   ]
  },
  {
   "cell_type": "code",
   "execution_count": 25,
   "id": "27e8673f",
   "metadata": {},
   "outputs": [
    {
     "data": {
      "text/plain": [
       "0"
      ]
     },
     "execution_count": 25,
     "metadata": {},
     "output_type": "execute_result"
    }
   ],
   "source": [
    "df['name'].isna().sum()"
   ]
  },
  {
   "cell_type": "code",
   "execution_count": 27,
   "id": "5414db64",
   "metadata": {},
   "outputs": [
    {
     "data": {
      "text/plain": [
       "0    DE CASTELLANE\n",
       "1          SARTOUX\n",
       "3         OLLIERES\n",
       "4         OLLIERES\n",
       "5         OLLIERES\n",
       "Name: complement, dtype: object"
      ]
     },
     "execution_count": 27,
     "metadata": {},
     "output_type": "execute_result"
    }
   ],
   "source": [
    "df['complement'][:5]"
   ]
  },
  {
   "cell_type": "code",
   "execution_count": 29,
   "id": "1822ba6d",
   "metadata": {},
   "outputs": [],
   "source": [
    "df.dropna(subset=['complement'], inplace=True)"
   ]
  },
  {
   "cell_type": "code",
   "execution_count": 30,
   "id": "9e56cf5e",
   "metadata": {},
   "outputs": [
    {
     "data": {
      "text/plain": [
       "(1533, 11)"
      ]
     },
     "execution_count": 30,
     "metadata": {},
     "output_type": "execute_result"
    }
   ],
   "source": [
    "df.shape"
   ]
  },
  {
   "cell_type": "code",
   "execution_count": 32,
   "id": "be771a1e",
   "metadata": {},
   "outputs": [
    {
     "data": {
      "text/plain": [
       "0           NaN\n",
       "1    14 ; 11252\n",
       "3           177\n",
       "4           154\n",
       "5           NaN\n",
       "Name: brothers, dtype: object"
      ]
     },
     "execution_count": 32,
     "metadata": {},
     "output_type": "execute_result"
    }
   ],
   "source": [
    "df['brothers'].head()"
   ]
  },
  {
   "cell_type": "code",
   "execution_count": 44,
   "id": "8f27eb93",
   "metadata": {},
   "outputs": [],
   "source": [
    "# \"14 ; 11252\" --> \"[14, 11252]\" <--- python list\n",
    "import json\n",
    "\n",
    "def convert_to_json(x):\n",
    "    if isinstance(x, int) or isinstance(x, float):\n",
    "        return json.dumps(x)\n",
    "    try:\n",
    "        return json.dumps([int(s.strip()) for s in x.split(';')])\n",
    "    except ValueError:\n",
    "        return json.dumps(np.nan)"
   ]
  },
  {
   "cell_type": "code",
   "execution_count": 45,
   "id": "e729ca81",
   "metadata": {},
   "outputs": [
    {
     "data": {
      "text/plain": [
       "'[14, 11252]'"
      ]
     },
     "execution_count": 45,
     "metadata": {},
     "output_type": "execute_result"
    }
   ],
   "source": [
    "convert_to_json('14 ; 11252')"
   ]
  },
  {
   "cell_type": "code",
   "execution_count": 46,
   "id": "dfa27357",
   "metadata": {},
   "outputs": [
    {
     "data": {
      "text/plain": [
       "['[178]', '[265, 272]', '[180, 183, 11413]', '[211, 215, 11660, 10829]']"
      ]
     },
     "execution_count": 46,
     "metadata": {},
     "output_type": "execute_result"
    }
   ],
   "source": [
    "tests = list(set(df['brothers'].values.tolist()))\n",
    "res = list(map(lambda x: convert_to_json(x), tests))\n",
    "res[:4]"
   ]
  },
  {
   "cell_type": "code",
   "execution_count": 41,
   "id": "eb10a474",
   "metadata": {},
   "outputs": [
    {
     "data": {
      "text/html": [
       "<div>\n",
       "<style scoped>\n",
       "    .dataframe tbody tr th:only-of-type {\n",
       "        vertical-align: middle;\n",
       "    }\n",
       "\n",
       "    .dataframe tbody tr th {\n",
       "        vertical-align: top;\n",
       "    }\n",
       "\n",
       "    .dataframe thead th {\n",
       "        text-align: right;\n",
       "    }\n",
       "</style>\n",
       "<table border=\"1\" class=\"dataframe\">\n",
       "  <thead>\n",
       "    <tr style=\"text-align: right;\">\n",
       "      <th></th>\n",
       "      <th>id</th>\n",
       "      <th>surname</th>\n",
       "      <th>complement</th>\n",
       "      <th>name</th>\n",
       "      <th>sex</th>\n",
       "      <th>birth</th>\n",
       "      <th>death</th>\n",
       "      <th>father</th>\n",
       "      <th>mother</th>\n",
       "      <th>brothers</th>\n",
       "      <th>sisters</th>\n",
       "    </tr>\n",
       "  </thead>\n",
       "  <tbody>\n",
       "    <tr>\n",
       "      <th>2301</th>\n",
       "      <td>233</td>\n",
       "      <td>DE VINTIMILLE</td>\n",
       "      <td>MARSEILLE</td>\n",
       "      <td>Jean-Baptiste; Joseph Hubert</td>\n",
       "      <td>M</td>\n",
       "      <td>1740</td>\n",
       "      <td>NaN</td>\n",
       "      <td>11754</td>\n",
       "      <td>11755</td>\n",
       "      <td>frère chevalier de Malte</td>\n",
       "      <td>NaN</td>\n",
       "    </tr>\n",
       "  </tbody>\n",
       "</table>\n",
       "</div>"
      ],
      "text/plain": [
       "       id        surname complement                          name sex birth  \\\n",
       "2301  233  DE VINTIMILLE  MARSEILLE  Jean-Baptiste; Joseph Hubert   M  1740   \n",
       "\n",
       "     death  father  mother                  brothers sisters  \n",
       "2301   NaN   11754   11755  frère chevalier de Malte     NaN  "
      ]
     },
     "execution_count": 41,
     "metadata": {},
     "output_type": "execute_result"
    }
   ],
   "source": [
    "df.loc[df['brothers'] == 'frère chevalier de Malte', :]"
   ]
  },
  {
   "cell_type": "code",
   "execution_count": 42,
   "id": "4a007140",
   "metadata": {},
   "outputs": [],
   "source": [
    "df.loc[df['brothers'] == 'frère chevalier de Malte', 'brothers'] = np.nan"
   ]
  },
  {
   "cell_type": "code",
   "execution_count": 47,
   "id": "882f379a",
   "metadata": {},
   "outputs": [],
   "source": [
    "df['brothers'] = df['brothers'].apply(lambda x: convert_to_json(x))\n",
    "df['sisters'] = df['sisters'].apply(lambda x: convert_to_json(x))"
   ]
  },
  {
   "cell_type": "code",
   "execution_count": 48,
   "id": "f61a3f3d",
   "metadata": {},
   "outputs": [
    {
     "data": {
      "text/plain": [
       "(1533, 11)"
      ]
     },
     "execution_count": 48,
     "metadata": {},
     "output_type": "execute_result"
    }
   ],
   "source": [
    "df.shape"
   ]
  },
  {
   "cell_type": "code",
   "execution_count": 49,
   "id": "b7ebdea1",
   "metadata": {},
   "outputs": [
    {
     "data": {
      "text/plain": [
       "dtype('O')"
      ]
     },
     "execution_count": 49,
     "metadata": {},
     "output_type": "execute_result"
    }
   ],
   "source": [
    "df['brothers'].dtype"
   ]
  },
  {
   "cell_type": "code",
   "execution_count": 50,
   "id": "e45464b3",
   "metadata": {},
   "outputs": [
    {
     "data": {
      "text/plain": [
       "1675     4\n",
       "1636     4\n",
       "1666     4\n",
       "1668     4\n",
       "1641     3\n",
       "        ..\n",
       "1470c    1\n",
       "1500c    1\n",
       "1673     1\n",
       "1544     1\n",
       "Nice     1\n",
       "Name: birth, Length: 140, dtype: int64"
      ]
     },
     "execution_count": 50,
     "metadata": {},
     "output_type": "execute_result"
    }
   ],
   "source": [
    "df['birth'].value_counts()"
   ]
  },
  {
   "cell_type": "code",
   "execution_count": 55,
   "id": "d411055d",
   "metadata": {},
   "outputs": [],
   "source": [
    "import re\n",
    "def convert_date(x):\n",
    "    pattern = re.compile(r'\\d{4}')\n",
    "    try:\n",
    "        if re.search(pattern, x):\n",
    "            return re.search(pattern, x).group()\n",
    "        else:\n",
    "            return np.nan\n",
    "    except TypeError:\n",
    "        return np.nan"
   ]
  },
  {
   "cell_type": "code",
   "execution_count": 56,
   "id": "09cd55ed",
   "metadata": {},
   "outputs": [],
   "source": [
    "tests = list(set(df['birth'].values.tolist())) # + list(set(df['death'].values.tolist()))\n",
    "res = list(map(lambda x: convert_date(x), tests))"
   ]
  },
  {
   "cell_type": "code",
   "execution_count": 57,
   "id": "5b4f7d90",
   "metadata": {},
   "outputs": [
    {
     "data": {
      "text/plain": [
       "['1729', '1594', '1614', '1708']"
      ]
     },
     "execution_count": 57,
     "metadata": {},
     "output_type": "execute_result"
    }
   ],
   "source": [
    "res[:4]"
   ]
  },
  {
   "cell_type": "code",
   "execution_count": 58,
   "id": "58979bb7",
   "metadata": {},
   "outputs": [],
   "source": [
    "df['birth'] = df['birth'].apply(lambda x: convert_date(x))\n",
    "df['death'] = df['death'].apply(lambda x: convert_date(x))"
   ]
  },
  {
   "cell_type": "code",
   "execution_count": 59,
   "id": "1e08cf53",
   "metadata": {},
   "outputs": [
    {
     "data": {
      "text/html": [
       "<div>\n",
       "<style scoped>\n",
       "    .dataframe tbody tr th:only-of-type {\n",
       "        vertical-align: middle;\n",
       "    }\n",
       "\n",
       "    .dataframe tbody tr th {\n",
       "        vertical-align: top;\n",
       "    }\n",
       "\n",
       "    .dataframe thead th {\n",
       "        text-align: right;\n",
       "    }\n",
       "</style>\n",
       "<table border=\"1\" class=\"dataframe\">\n",
       "  <thead>\n",
       "    <tr style=\"text-align: right;\">\n",
       "      <th></th>\n",
       "      <th>id</th>\n",
       "      <th>surname</th>\n",
       "      <th>complement</th>\n",
       "      <th>name</th>\n",
       "      <th>sex</th>\n",
       "      <th>birth</th>\n",
       "      <th>death</th>\n",
       "      <th>father</th>\n",
       "      <th>mother</th>\n",
       "      <th>brothers</th>\n",
       "      <th>sisters</th>\n",
       "    </tr>\n",
       "  </thead>\n",
       "  <tbody>\n",
       "    <tr>\n",
       "      <th>0</th>\n",
       "      <td>1</td>\n",
       "      <td>DE BRUN</td>\n",
       "      <td>DE CASTELLANE</td>\n",
       "      <td>André</td>\n",
       "      <td>M</td>\n",
       "      <td>1659</td>\n",
       "      <td>NaN</td>\n",
       "      <td>10001</td>\n",
       "      <td>10002</td>\n",
       "      <td>NaN</td>\n",
       "      <td>NaN</td>\n",
       "    </tr>\n",
       "    <tr>\n",
       "      <th>1</th>\n",
       "      <td>2</td>\n",
       "      <td>DE DURAND</td>\n",
       "      <td>SARTOUX</td>\n",
       "      <td>Pierre</td>\n",
       "      <td>M</td>\n",
       "      <td>1616</td>\n",
       "      <td>NaN</td>\n",
       "      <td>11157</td>\n",
       "      <td>11158</td>\n",
       "      <td>[14, 11252]</td>\n",
       "      <td>NaN</td>\n",
       "    </tr>\n",
       "    <tr>\n",
       "      <th>3</th>\n",
       "      <td>154</td>\n",
       "      <td>D'AGOULT</td>\n",
       "      <td>OLLIERES</td>\n",
       "      <td>Gaspard</td>\n",
       "      <td>M</td>\n",
       "      <td>NaN</td>\n",
       "      <td>NaN</td>\n",
       "      <td>11379</td>\n",
       "      <td>11380</td>\n",
       "      <td>[177]</td>\n",
       "      <td>NaN</td>\n",
       "    </tr>\n",
       "    <tr>\n",
       "      <th>4</th>\n",
       "      <td>177</td>\n",
       "      <td>D'AGOULT</td>\n",
       "      <td>OLLIERES</td>\n",
       "      <td>Melchior</td>\n",
       "      <td>M</td>\n",
       "      <td>NaN</td>\n",
       "      <td>NaN</td>\n",
       "      <td>11379</td>\n",
       "      <td>11380</td>\n",
       "      <td>[154]</td>\n",
       "      <td>NaN</td>\n",
       "    </tr>\n",
       "    <tr>\n",
       "      <th>5</th>\n",
       "      <td>11379</td>\n",
       "      <td>D'AGOULT</td>\n",
       "      <td>OLLIERES</td>\n",
       "      <td>Balthazar</td>\n",
       "      <td>M</td>\n",
       "      <td>NaN</td>\n",
       "      <td>NaN</td>\n",
       "      <td>11381</td>\n",
       "      <td>11382</td>\n",
       "      <td>NaN</td>\n",
       "      <td>[11948]</td>\n",
       "    </tr>\n",
       "  </tbody>\n",
       "</table>\n",
       "</div>"
      ],
      "text/plain": [
       "      id    surname     complement       name sex birth death  father  mother  \\\n",
       "0      1    DE BRUN  DE CASTELLANE      André   M  1659   NaN   10001   10002   \n",
       "1      2  DE DURAND        SARTOUX     Pierre   M  1616   NaN   11157   11158   \n",
       "3    154   D'AGOULT       OLLIERES    Gaspard   M   NaN   NaN   11379   11380   \n",
       "4    177   D'AGOULT       OLLIERES   Melchior   M   NaN   NaN   11379   11380   \n",
       "5  11379   D'AGOULT       OLLIERES  Balthazar   M   NaN   NaN   11381   11382   \n",
       "\n",
       "      brothers  sisters  \n",
       "0          NaN      NaN  \n",
       "1  [14, 11252]      NaN  \n",
       "3        [177]      NaN  \n",
       "4        [154]      NaN  \n",
       "5          NaN  [11948]  "
      ]
     },
     "execution_count": 59,
     "metadata": {},
     "output_type": "execute_result"
    }
   ],
   "source": [
    "df.head()"
   ]
  },
  {
   "cell_type": "code",
   "execution_count": 60,
   "id": "16a3b985",
   "metadata": {},
   "outputs": [],
   "source": [
    "df.to_csv('cleaned.csv', header=True, index=False)"
   ]
  }
 ],
 "metadata": {
  "kernelspec": {
   "display_name": "Python 3 (ipykernel)",
   "language": "python",
   "name": "python3"
  },
  "language_info": {
   "codemirror_mode": {
    "name": "ipython",
    "version": 3
   },
   "file_extension": ".py",
   "mimetype": "text/x-python",
   "name": "python",
   "nbconvert_exporter": "python",
   "pygments_lexer": "ipython3",
   "version": "3.10.1"
  }
 },
 "nbformat": 4,
 "nbformat_minor": 5
}
